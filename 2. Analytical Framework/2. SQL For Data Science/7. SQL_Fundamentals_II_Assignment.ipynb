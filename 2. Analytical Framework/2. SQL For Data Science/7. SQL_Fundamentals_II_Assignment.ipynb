{
  "cells": [
    {
      "cell_type": "markdown",
      "metadata": {
        "id": "LSx52toYvkE0"
      },
      "source": [
        "# <b> Question 1 : Return the customer IDs of customers who have spent at least $110 with the staff member who has an ID of 2.\n"
      ]
    },
    {
      "cell_type": "markdown",
      "metadata": {
        "id": "grhpLeadvkHP"
      },
      "source": [
        "# <b> Question 2 :  How many films begin with the letter J?\n"
      ]
    },
    {
      "cell_type": "markdown",
      "metadata": {
        "id": "7ADgnW_VvkJg"
      },
      "source": [
        "# <b> Question 3 : What customer has the highest customer ID number whose name starts with an 'E' and has an address ID lower than 500?"
      ]
    },
    {
      "cell_type": "markdown",
      "metadata": {
        "id": "NGneZu8nxXN9"
      },
      "source": [
        "##### first of all we will make a datbase connection"
      ]
    },
    {
      "cell_type": "code",
      "execution_count": 36,
      "metadata": {},
      "outputs": [],
      "source": [
        "import psycopg2 as pg2"
      ]
    },
    {
      "cell_type": "code",
      "execution_count": 75,
      "metadata": {},
      "outputs": [],
      "source": [
        "connect_dvd = pg2.connect(database='dvdrental', user='postgres', password='')"
      ]
    },
    {
      "cell_type": "code",
      "execution_count": 76,
      "metadata": {},
      "outputs": [],
      "source": [
        "cursor = connect_dvd.cursor()"
      ]
    },
    {
      "cell_type": "markdown",
      "metadata": {},
      "source": [
        "##### solving question 1 : Return the customer IDs of customers who have spent at least $110 with the staff member who has an ID of 2\n",
        "\n"
      ]
    },
    {
      "cell_type": "code",
      "execution_count": 63,
      "metadata": {},
      "outputs": [],
      "source": [
        "cursor.execute(\"\"\"\n",
        "\n",
        "    select customer_id,  sum(amount) from payment\n",
        "    where staff_id = 2\n",
        "    group by customer_id\n",
        "    having sum(amount) >= 110\n",
        "\n",
        "\n",
        "\n",
        " \"\"\")\n"
      ]
    },
    {
      "cell_type": "code",
      "execution_count": 64,
      "metadata": {},
      "outputs": [
        {
          "data": {
            "text/plain": [
              "[(187, Decimal('110.81')), (148, Decimal('110.78'))]"
            ]
          },
          "execution_count": 64,
          "metadata": {},
          "output_type": "execute_result"
        }
      ],
      "source": [
        "cursor.fetchall() # we got two enties with id 187 and 148"
      ]
    },
    {
      "cell_type": "markdown",
      "metadata": {},
      "source": [
        "#### solving problem 2 : How many films begin with the letter J?"
      ]
    },
    {
      "cell_type": "code",
      "execution_count": 79,
      "metadata": {},
      "outputs": [],
      "source": [
        "cursor.execute(\"\"\" \n",
        "\n",
        "        select count(*) from film\n",
        "        where title ilike 'J%'\n",
        "\n",
        "\"\"\")"
      ]
    },
    {
      "cell_type": "code",
      "execution_count": 80,
      "metadata": {},
      "outputs": [
        {
          "data": {
            "text/plain": [
              "(20,)"
            ]
          },
          "execution_count": 80,
          "metadata": {},
          "output_type": "execute_result"
        }
      ],
      "source": [
        "cursor.fetchone() #there are 20 such films"
      ]
    },
    {
      "cell_type": "markdown",
      "metadata": {},
      "source": [
        "### solving challenge 3 : What customer has the highest customer ID number whose name starts with an 'E' and has an address ID lower than 500"
      ]
    },
    {
      "cell_type": "markdown",
      "metadata": {},
      "source": []
    },
    {
      "cell_type": "code",
      "execution_count": 85,
      "metadata": {},
      "outputs": [],
      "source": [
        "cursor.execute(\"\"\" \n",
        "\n",
        "        select customer_id, first_name, last_name from customer\n",
        "        where first_name ilike 'e%' and address_id < 500\n",
        "        order by customer_id DESC\n",
        "\n",
        "\"\"\")"
      ]
    },
    {
      "cell_type": "code",
      "execution_count": 86,
      "metadata": {},
      "outputs": [
        {
          "data": {
            "text/plain": [
              "(434, 'Eddie', 'Tomlin')"
            ]
          },
          "execution_count": 86,
          "metadata": {},
          "output_type": "execute_result"
        }
      ],
      "source": [
        "cursor.fetchone()  # EDDIE have the highest customer id with above conditions 443"
      ]
    }
  ],
  "metadata": {
    "colab": {
      "provenance": []
    },
    "kernelspec": {
      "display_name": "Python 3.10.6 64-bit",
      "language": "python",
      "name": "python3"
    },
    "language_info": {
      "codemirror_mode": {
        "name": "ipython",
        "version": 3
      },
      "file_extension": ".py",
      "mimetype": "text/x-python",
      "name": "python",
      "nbconvert_exporter": "python",
      "pygments_lexer": "ipython3",
      "version": "3.10.6"
    },
    "vscode": {
      "interpreter": {
        "hash": "916dbcbb3f70747c44a77c7bcd40155683ae19c65e1c03b4aa3499c5328201f1"
      }
    }
  },
  "nbformat": 4,
  "nbformat_minor": 0
}
