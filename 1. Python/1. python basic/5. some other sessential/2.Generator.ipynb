{
 "cells": [
  {
   "cell_type": "code",
   "execution_count": 1,
   "metadata": {},
   "outputs": [],
   "source": [
    "### genrators are simiar to iterator class, we can use them as follow\n",
    "\n",
    "def myrange(a,b):\n",
    "\n",
    "    while a <= b:\n",
    "\n",
    "        yield(a)\n",
    "        a += 1"
   ]
  },
  {
   "cell_type": "code",
   "execution_count": 2,
   "metadata": {},
   "outputs": [],
   "source": [
    "myrange1 = myrange(1,10) #calling generator object"
   ]
  },
  {
   "cell_type": "code",
   "execution_count": 4,
   "metadata": {},
   "outputs": [],
   "source": [
    "for elem in myrange1: #using for loop to loop over generators\n",
    "    print(elem)"
   ]
  },
  {
   "cell_type": "markdown",
   "metadata": {},
   "source": [
    "##### generator example : printing odd number form 1 to n"
   ]
  },
  {
   "cell_type": "code",
   "execution_count": 5,
   "metadata": {},
   "outputs": [],
   "source": [
    "def oddgen(numberin):\n",
    "\n",
    "    for elem in range(1,numberin+1):\n",
    "\n",
    "        if elem%2 != 0:\n",
    "\n",
    "            yield(elem)\n",
    "\n",
    "        else:\n",
    "\n",
    "            pass\n",
    "    "
   ]
  },
  {
   "cell_type": "code",
   "execution_count": 6,
   "metadata": {},
   "outputs": [],
   "source": [
    "#making generator object\n",
    "\n",
    "oddgen1 = oddgen(10)"
   ]
  },
  {
   "cell_type": "code",
   "execution_count": 7,
   "metadata": {},
   "outputs": [
    {
     "name": "stdout",
     "output_type": "stream",
     "text": [
      "1\n",
      "3\n",
      "5\n",
      "7\n",
      "9\n"
     ]
    }
   ],
   "source": [
    "for elem in oddgen1:\n",
    "\n",
    "    print(elem)"
   ]
  },
  {
   "cell_type": "markdown",
   "metadata": {},
   "source": [
    "##### reverse generator"
   ]
  },
  {
   "cell_type": "code",
   "execution_count": 8,
   "metadata": {},
   "outputs": [],
   "source": [
    "def reverse(numberin):\n",
    "\n",
    "    for elem in range(numberin,-1,-1):\n",
    "\n",
    "        yield(elem)"
   ]
  },
  {
   "cell_type": "code",
   "execution_count": 11,
   "metadata": {},
   "outputs": [
    {
     "name": "stdout",
     "output_type": "stream",
     "text": [
      "5\n",
      "4\n",
      "3\n",
      "2\n",
      "1\n",
      "0\n"
     ]
    }
   ],
   "source": [
    "reverse1 = reverse(5)\n",
    "\n",
    "for elem in reverse1:\n",
    "\n",
    "    print(elem)"
   ]
  },
  {
   "cell_type": "markdown",
   "metadata": {},
   "source": [
    "##### fibonachi generator"
   ]
  },
  {
   "cell_type": "code",
   "execution_count": 20,
   "metadata": {},
   "outputs": [],
   "source": [
    "def fibonacci(n):\n",
    "\n",
    "    fibo_list = [0,1]\n",
    "\n",
    "    for elem in range (1,n+1):\n",
    "\n",
    "        if elem == 1:\n",
    "\n",
    "            \n",
    "\n",
    "            yield(fibo_list[elem-1])\n",
    "\n",
    "        elif elem == 2:\n",
    "\n",
    "            yield(fibo_list[elem-1])\n",
    "\n",
    "        else:\n",
    "\n",
    "            fibo_list.append(fibo_list[elem-2] + fibo_list[elem-3])\n",
    "\n",
    "            yield(fibo_list[elem-1])"
   ]
  },
  {
   "cell_type": "code",
   "execution_count": 21,
   "metadata": {},
   "outputs": [
    {
     "name": "stdout",
     "output_type": "stream",
     "text": [
      "0\n",
      "1\n",
      "1\n",
      "2\n",
      "3\n",
      "5\n",
      "8\n",
      "13\n"
     ]
    }
   ],
   "source": [
    "fibo = fibonacci(8)\n",
    "\n",
    "for elem in fibo:\n",
    "    print(elem)"
   ]
  }
 ],
 "metadata": {
  "kernelspec": {
   "display_name": "Python 3.10.6 64-bit",
   "language": "python",
   "name": "python3"
  },
  "language_info": {
   "codemirror_mode": {
    "name": "ipython",
    "version": 3
   },
   "file_extension": ".py",
   "mimetype": "text/x-python",
   "name": "python",
   "nbconvert_exporter": "python",
   "pygments_lexer": "ipython3",
   "version": "3.10.6"
  },
  "orig_nbformat": 4,
  "vscode": {
   "interpreter": {
    "hash": "916dbcbb3f70747c44a77c7bcd40155683ae19c65e1c03b4aa3499c5328201f1"
   }
  }
 },
 "nbformat": 4,
 "nbformat_minor": 2
}
