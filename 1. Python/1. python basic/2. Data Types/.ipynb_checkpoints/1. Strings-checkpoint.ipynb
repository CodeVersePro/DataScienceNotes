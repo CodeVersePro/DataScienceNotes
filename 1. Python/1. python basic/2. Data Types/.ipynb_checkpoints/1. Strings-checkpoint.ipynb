{
 "cells": [
  {
   "cell_type": "markdown",
   "id": "22a8e5bc",
   "metadata": {},
   "source": [
    "### Basic of the string slicing\n",
    "\n",
    "1. normal slicing\n",
    "2. steps\n",
    "3. reverse slicing\n"
   ]
  },
  {
   "cell_type": "code",
   "execution_count": 1,
   "id": "d7a70d10",
   "metadata": {},
   "outputs": [],
   "source": [
    "st = 'my name is hitesh'"
   ]
  },
  {
   "cell_type": "code",
   "execution_count": 2,
   "id": "4e2e6968",
   "metadata": {},
   "outputs": [
    {
     "data": {
      "text/plain": [
       "'y'"
      ]
     },
     "execution_count": 2,
     "metadata": {},
     "output_type": "execute_result"
    }
   ],
   "source": [
    "st[1]"
   ]
  },
  {
   "cell_type": "code",
   "execution_count": 3,
   "id": "e2509a29",
   "metadata": {},
   "outputs": [
    {
     "data": {
      "text/plain": [
       "'m'"
      ]
     },
     "execution_count": 3,
     "metadata": {},
     "output_type": "execute_result"
    }
   ],
   "source": [
    "st[0]"
   ]
  },
  {
   "cell_type": "code",
   "execution_count": 4,
   "id": "b1de6d3d",
   "metadata": {},
   "outputs": [
    {
     "data": {
      "text/plain": [
       "'my name is hitesh'"
      ]
     },
     "execution_count": 4,
     "metadata": {},
     "output_type": "execute_result"
    }
   ],
   "source": [
    "st[:]"
   ]
  },
  {
   "cell_type": "code",
   "execution_count": 5,
   "id": "8b0a47e1",
   "metadata": {},
   "outputs": [
    {
     "data": {
      "text/plain": [
       "'my na'"
      ]
     },
     "execution_count": 5,
     "metadata": {},
     "output_type": "execute_result"
    }
   ],
   "source": [
    "st[0:5]"
   ]
  },
  {
   "cell_type": "code",
   "execution_count": 8,
   "id": "e7e3521c",
   "metadata": {},
   "outputs": [
    {
     "data": {
      "text/plain": [
       "'es'"
      ]
     },
     "execution_count": 8,
     "metadata": {},
     "output_type": "execute_result"
    }
   ],
   "source": [
    "st[-3:-1]"
   ]
  },
  {
   "cell_type": "code",
   "execution_count": 9,
   "id": "39bac28a",
   "metadata": {},
   "outputs": [
    {
     "data": {
      "text/plain": [
       "'itesh'"
      ]
     },
     "execution_count": 9,
     "metadata": {},
     "output_type": "execute_result"
    }
   ],
   "source": [
    "st[-5:]"
   ]
  },
  {
   "cell_type": "markdown",
   "id": "a5d7a821",
   "metadata": {},
   "source": [
    "#### steps"
   ]
  },
  {
   "cell_type": "code",
   "execution_count": 6,
   "id": "a39129f8",
   "metadata": {},
   "outputs": [
    {
     "data": {
      "text/plain": [
       "'my name is hitesh'"
      ]
     },
     "execution_count": 6,
     "metadata": {},
     "output_type": "execute_result"
    }
   ],
   "source": [
    "st[::1]"
   ]
  },
  {
   "cell_type": "code",
   "execution_count": 7,
   "id": "c8e2269d",
   "metadata": {},
   "outputs": [
    {
     "data": {
      "text/plain": [
       "'m aei ieh'"
      ]
     },
     "execution_count": 7,
     "metadata": {},
     "output_type": "execute_result"
    }
   ],
   "source": [
    "st[::2]"
   ]
  },
  {
   "cell_type": "markdown",
   "id": "2e1353e8",
   "metadata": {},
   "source": [
    "#### reverse slicing\n"
   ]
  },
  {
   "cell_type": "code",
   "execution_count": 10,
   "id": "75023fb6",
   "metadata": {},
   "outputs": [
    {
     "data": {
      "text/plain": [
       "'hsetih si eman ym'"
      ]
     },
     "execution_count": 10,
     "metadata": {},
     "output_type": "execute_result"
    }
   ],
   "source": [
    "st[::-1]"
   ]
  },
  {
   "cell_type": "code",
   "execution_count": 11,
   "id": "5f6ef295",
   "metadata": {},
   "outputs": [
    {
     "data": {
      "text/plain": [
       "''"
      ]
     },
     "execution_count": 11,
     "metadata": {},
     "output_type": "execute_result"
    }
   ],
   "source": [
    "st[-1:-5]"
   ]
  },
  {
   "cell_type": "code",
   "execution_count": 12,
   "id": "1d93a62f",
   "metadata": {},
   "outputs": [
    {
     "data": {
      "text/plain": [
       "'hset'"
      ]
     },
     "execution_count": 12,
     "metadata": {},
     "output_type": "execute_result"
    }
   ],
   "source": [
    "st[-1:-5:-1]"
   ]
  }
 ],
 "metadata": {
  "kernelspec": {
   "display_name": "Python 3 (ipykernel)",
   "language": "python",
   "name": "python3"
  },
  "language_info": {
   "codemirror_mode": {
    "name": "ipython",
    "version": 3
   },
   "file_extension": ".py",
   "mimetype": "text/x-python",
   "name": "python",
   "nbconvert_exporter": "python",
   "pygments_lexer": "ipython3",
   "version": "3.9.12"
  }
 },
 "nbformat": 4,
 "nbformat_minor": 5
}
