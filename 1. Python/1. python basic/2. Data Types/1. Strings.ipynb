{
 "cells": [
  {
   "cell_type": "markdown",
   "id": "ba21cf5f",
   "metadata": {},
   "source": [
    "### learning some basic about string"
   ]
  },
  {
   "cell_type": "markdown",
   "id": "26992c84",
   "metadata": {},
   "source": [
    "how to use single quote and souble quotes"
   ]
  },
  {
   "cell_type": "code",
   "execution_count": 5,
   "id": "11347da1",
   "metadata": {},
   "outputs": [
    {
     "name": "stdout",
     "output_type": "stream",
     "text": [
      "My name is \"hitesh\"\n"
     ]
    }
   ],
   "source": [
    "string1 = 'My name is \"hitesh\"' # we are using single quote and double quotes inside for quotation\n",
    "print(string1)"
   ]
  },
  {
   "cell_type": "code",
   "execution_count": 5,
   "id": "45b8dc1d",
   "metadata": {},
   "outputs": [
    {
     "name": "stdout",
     "output_type": "stream",
     "text": [
      "My name is hitesh solanki, this is mayur's watch \n"
     ]
    }
   ],
   "source": [
    "string2 = \"My name is hitesh solanki, this is mayur's watch \" # we used single quote inside double quote\n",
    "print(string2)"
   ]
  },
  {
   "cell_type": "markdown",
   "id": "d7534487",
   "metadata": {},
   "source": [
    "#### Concatinating strings"
   ]
  },
  {
   "cell_type": "code",
   "execution_count": 1,
   "id": "bc019d52",
   "metadata": {},
   "outputs": [
    {
     "name": "stdout",
     "output_type": "stream",
     "text": [
      "my name is hitesh\n"
     ]
    }
   ],
   "source": [
    "a = 'my'\n",
    "b = ' name'\n",
    "c = ' is hitesh'\n",
    "\n",
    "print(a+b+c)"
   ]
  },
  {
   "cell_type": "code",
   "execution_count": 2,
   "id": "1e8836f4",
   "metadata": {},
   "outputs": [
    {
     "ename": "TypeError",
     "evalue": "can only concatenate str (not \"int\") to str",
     "output_type": "error",
     "traceback": [
      "\u001b[0;31m---------------------------------------------------------------------------\u001b[0m",
      "\u001b[0;31mTypeError\u001b[0m                                 Traceback (most recent call last)",
      "Cell \u001b[0;32mIn [2], line 6\u001b[0m\n\u001b[1;32m      3\u001b[0m a \u001b[39m=\u001b[39m \u001b[39m'\u001b[39m\u001b[39mHitesh\u001b[39m\u001b[39m'\u001b[39m\n\u001b[1;32m      4\u001b[0m b \u001b[39m=\u001b[39m \u001b[39m5\u001b[39m\n\u001b[0;32m----> 6\u001b[0m a\u001b[39m+\u001b[39;49mb\n",
      "\u001b[0;31mTypeError\u001b[0m: can only concatenate str (not \"int\") to str"
     ]
    }
   ],
   "source": [
    "## string can not be concatinated with number\n",
    "\n",
    "a = 'Hitesh'\n",
    "b = 5\n",
    "\n",
    "a+b"
   ]
  },
  {
   "cell_type": "code",
   "execution_count": 3,
   "id": "cb77fde8",
   "metadata": {},
   "outputs": [
    {
     "data": {
      "text/plain": [
       "'hitesh5'"
      ]
     },
     "execution_count": 3,
     "metadata": {},
     "output_type": "execute_result"
    }
   ],
   "source": [
    "## we have to change the type first\n",
    "\n",
    "a = 'hitesh'\n",
    "b = str(b)\n",
    "a+b"
   ]
  },
  {
   "cell_type": "markdown",
   "id": "19413965",
   "metadata": {},
   "source": [
    "#### making funtion to triple each literal"
   ]
  },
  {
   "cell_type": "code",
   "execution_count": 9,
   "id": "3c14ae8e",
   "metadata": {},
   "outputs": [],
   "source": [
    "def triple(strn):\n",
    "\n",
    "    str_new = ''\n",
    "\n",
    "    for letter in strn:\n",
    "\n",
    "        str_new += letter * 3\n",
    "\n",
    "    return print(str_new)\n",
    "\n",
    "def str_check(string):\n",
    "\n",
    "    if type(string) != str:\n",
    "\n",
    "        raise Exception('please enter valid string')\n",
    "\n",
    "    else:\n",
    "\n",
    "        return string"
   ]
  },
  {
   "cell_type": "code",
   "execution_count": 12,
   "id": "88a5c78a",
   "metadata": {},
   "outputs": [
    {
     "name": "stdout",
     "output_type": "stream",
     "text": [
      "???ssshhhssskkkhhhsss\n"
     ]
    }
   ],
   "source": [
    "try:\n",
    "\n",
    "    input_string = str_check(input('Please enter string'))\n",
    "\n",
    "except Exception as ex:\n",
    "\n",
    "    print(f'ERROR : {ex}')\n",
    "\n",
    "else:\n",
    "\n",
    "    triple(input_string)"
   ]
  },
  {
   "cell_type": "markdown",
   "id": "22a8e5bc",
   "metadata": {},
   "source": [
    "### Basic of the string slicing\n",
    "\n",
    "1. normal slicing\n",
    "2. steps\n",
    "3. reverse slicing\n"
   ]
  },
  {
   "cell_type": "code",
   "execution_count": null,
   "id": "d7a70d10",
   "metadata": {},
   "outputs": [],
   "source": [
    "st = 'my name is hitesh'"
   ]
  },
  {
   "cell_type": "code",
   "execution_count": null,
   "id": "4e2e6968",
   "metadata": {},
   "outputs": [
    {
     "data": {
      "text/plain": [
       "'y'"
      ]
     },
     "metadata": {},
     "output_type": "display_data"
    }
   ],
   "source": [
    "st[1]"
   ]
  },
  {
   "cell_type": "code",
   "execution_count": null,
   "id": "e2509a29",
   "metadata": {},
   "outputs": [
    {
     "data": {
      "text/plain": [
       "'m'"
      ]
     },
     "metadata": {},
     "output_type": "display_data"
    }
   ],
   "source": [
    "st[0]"
   ]
  },
  {
   "cell_type": "code",
   "execution_count": null,
   "id": "b1de6d3d",
   "metadata": {},
   "outputs": [
    {
     "data": {
      "text/plain": [
       "'my name is hitesh'"
      ]
     },
     "metadata": {},
     "output_type": "display_data"
    }
   ],
   "source": [
    "st[:]"
   ]
  },
  {
   "cell_type": "code",
   "execution_count": null,
   "id": "8b0a47e1",
   "metadata": {},
   "outputs": [
    {
     "data": {
      "text/plain": [
       "'my na'"
      ]
     },
     "metadata": {},
     "output_type": "display_data"
    }
   ],
   "source": [
    "st[0:5]"
   ]
  },
  {
   "cell_type": "code",
   "execution_count": null,
   "id": "e7e3521c",
   "metadata": {},
   "outputs": [
    {
     "data": {
      "text/plain": [
       "'es'"
      ]
     },
     "metadata": {},
     "output_type": "display_data"
    }
   ],
   "source": [
    "st[-3:-1]"
   ]
  },
  {
   "cell_type": "code",
   "execution_count": null,
   "id": "39bac28a",
   "metadata": {},
   "outputs": [
    {
     "data": {
      "text/plain": [
       "'itesh'"
      ]
     },
     "metadata": {},
     "output_type": "display_data"
    }
   ],
   "source": [
    "st[-5:]"
   ]
  },
  {
   "cell_type": "markdown",
   "id": "a5d7a821",
   "metadata": {},
   "source": [
    "##### steps"
   ]
  },
  {
   "cell_type": "code",
   "execution_count": null,
   "id": "a39129f8",
   "metadata": {},
   "outputs": [
    {
     "data": {
      "text/plain": [
       "'my name is hitesh'"
      ]
     },
     "metadata": {},
     "output_type": "display_data"
    }
   ],
   "source": [
    "st[::1]"
   ]
  },
  {
   "cell_type": "code",
   "execution_count": null,
   "id": "c8e2269d",
   "metadata": {},
   "outputs": [
    {
     "data": {
      "text/plain": [
       "'m aei ieh'"
      ]
     },
     "metadata": {},
     "output_type": "display_data"
    }
   ],
   "source": [
    "st[::2]"
   ]
  },
  {
   "cell_type": "markdown",
   "id": "2e1353e8",
   "metadata": {},
   "source": [
    "##### reverse slicing\n"
   ]
  },
  {
   "cell_type": "code",
   "execution_count": null,
   "id": "75023fb6",
   "metadata": {},
   "outputs": [
    {
     "data": {
      "text/plain": [
       "'hsetih si eman ym'"
      ]
     },
     "metadata": {},
     "output_type": "display_data"
    }
   ],
   "source": [
    "st[::-1]"
   ]
  },
  {
   "cell_type": "code",
   "execution_count": null,
   "id": "5f6ef295",
   "metadata": {},
   "outputs": [
    {
     "data": {
      "text/plain": [
       "''"
      ]
     },
     "metadata": {},
     "output_type": "display_data"
    }
   ],
   "source": [
    "st[-1:-5]"
   ]
  },
  {
   "cell_type": "code",
   "execution_count": null,
   "id": "1d93a62f",
   "metadata": {},
   "outputs": [
    {
     "data": {
      "text/plain": [
       "'hset'"
      ]
     },
     "metadata": {},
     "output_type": "display_data"
    }
   ],
   "source": [
    "st[-1:-5:-1]"
   ]
  },
  {
   "cell_type": "code",
   "execution_count": null,
   "id": "7ea16f38",
   "metadata": {},
   "outputs": [],
   "source": []
  },
  {
   "cell_type": "markdown",
   "id": "14031d80",
   "metadata": {},
   "source": [
    "### iterating over string using for loop"
   ]
  },
  {
   "cell_type": "code",
   "execution_count": 6,
   "id": "4ec7f03a",
   "metadata": {},
   "outputs": [],
   "source": [
    "string_1 = \"my name is hitesh singh solanki\""
   ]
  },
  {
   "cell_type": "code",
   "execution_count": null,
   "id": "b31c6fc9",
   "metadata": {},
   "outputs": [],
   "source": [
    "for letter in string_1:\n",
    "\n",
    "    if letter == ' ':\n",
    "\n",
    "        pass\n",
    "\n",
    "    else:\n",
    "\n",
    "        print(letter)"
   ]
  },
  {
   "cell_type": "code",
   "execution_count": null,
   "id": "f1ce8e9c",
   "metadata": {},
   "outputs": [],
   "source": [
    "for letter in string_1:\n",
    "\n",
    "    if letter == ' ':\n",
    "\n",
    "        pass\n",
    "\n",
    "    else:\n",
    "\n",
    "        print(letter)\n",
    "\n",
    "else:\n",
    "\n",
    "    print('Loop is over')"
   ]
  },
  {
   "cell_type": "code",
   "execution_count": 11,
   "id": "46f63a0e",
   "metadata": {},
   "outputs": [
    {
     "name": "stdout",
     "output_type": "stream",
     "text": [
      "m\n",
      "y\n",
      "n\n",
      "a\n",
      "m\n",
      "e\n",
      "i\n",
      "s\n",
      "We encounter the letter \"H\" so we can not move forward\n"
     ]
    }
   ],
   "source": [
    "# using break statement\n",
    "\n",
    "for letter in string_1:\n",
    "\n",
    "    if letter == 'h':\n",
    "\n",
    "        print('We encounter the letter \"H\" so we can not move forward')\n",
    "        break\n",
    "\n",
    "    elif letter == ' ':\n",
    "\n",
    "        pass\n",
    "\n",
    "    else:\n",
    "\n",
    "        print(letter)\n",
    "\n",
    "else:\n",
    "\n",
    "    print('The loop is over')"
   ]
  },
  {
   "cell_type": "markdown",
   "id": "05fe67e6",
   "metadata": {},
   "source": [
    "### using while lopp to iterate over string"
   ]
  },
  {
   "cell_type": "code",
   "execution_count": null,
   "id": "b150f5a9",
   "metadata": {},
   "outputs": [],
   "source": [
    "count = 0\n",
    "\n",
    "while count < len(string_1):\n",
    "\n",
    "    print(string_1[count])\n",
    "    count += 1"
   ]
  },
  {
   "cell_type": "code",
   "execution_count": 8,
   "id": "bbc6b138",
   "metadata": {},
   "outputs": [
    {
     "name": "stdout",
     "output_type": "stream",
     "text": [
      "m\n",
      "y\n"
     ]
    }
   ],
   "source": [
    "count = 0\n",
    "\n",
    "while count < len(string_1):\n",
    "\n",
    "    if string_1[count] == ' ':\n",
    "        count += 1\n",
    "        break\n",
    "    else:\n",
    "        print(string_1[count])\n",
    "        count += 1\n",
    "\n",
    "else:\n",
    "\n",
    "    print('the loop is over')"
   ]
  },
  {
   "cell_type": "markdown",
   "id": "a7b9f421",
   "metadata": {},
   "source": [
    "#### making function which can find the first occurence of letter in string"
   ]
  },
  {
   "cell_type": "code",
   "execution_count": 65,
   "id": "3fa0f119",
   "metadata": {},
   "outputs": [],
   "source": [
    "def string_find(string_input, value_input):\n",
    "\n",
    "    start_p = 0\n",
    "    end_p = len(value_input)\n",
    "    index_list = []\n",
    "\n",
    "    while end_p <= len(string_input):\n",
    "\n",
    "        if string_input[start_p:end_p] == value_input:\n",
    "\n",
    "            if start_p != end_p-1:\n",
    "                index_list.append([start_p,end_p-1])\n",
    "\n",
    "            else:\n",
    "                index_list.append([start_p])\n",
    "\n",
    "            start_p = start_p + 1\n",
    "            end_p = end_p + 1\n",
    "\n",
    "        else:\n",
    "\n",
    "            start_p = start_p + 1\n",
    "            end_p = end_p + 1\n",
    "\n",
    "    return print(index_list)"
   ]
  },
  {
   "cell_type": "code",
   "execution_count": 70,
   "id": "1871ba4a",
   "metadata": {},
   "outputs": [
    {
     "name": "stdout",
     "output_type": "stream",
     "text": [
      "ERROR : please do not neter null string\n"
     ]
    }
   ],
   "source": [
    "try:\n",
    "\n",
    "    input_string = input('Please enter string')\n",
    "    value_string = input('please enetr value to check')\n",
    "\n",
    "    if len(input_string) == 0 or len(value_string) == 0:\n",
    "\n",
    "        raise Exception('please do not neter null string')\n",
    "\n",
    "    else:\n",
    "\n",
    "        pass\n",
    "\n",
    "except Exception as ex:\n",
    "\n",
    "    print(f'ERROR : {ex}')\n",
    "\n",
    "else:\n",
    "\n",
    "    string_find(input_string,value_string)"
   ]
  },
  {
   "cell_type": "markdown",
   "id": "a1d1fc27",
   "metadata": {},
   "source": []
  },
  {
   "cell_type": "markdown",
   "id": "692b634e",
   "metadata": {},
   "source": [
    "### using string methods"
   ]
  },
  {
   "cell_type": "markdown",
   "id": "632257c2",
   "metadata": {},
   "source": [
    "##### using find method to find first index of occurence"
   ]
  },
  {
   "cell_type": "code",
   "execution_count": 88,
   "id": "2413ba39",
   "metadata": {},
   "outputs": [
    {
     "name": "stdout",
     "output_type": "stream",
     "text": [
      "11\n",
      "[[11, 12], [31, 32], [60, 61]]\n",
      "None\n"
     ]
    }
   ],
   "source": [
    "string = 'my name is hitesh sigh solanki.hitesh singh solanki is good hitman'\n",
    "\n",
    "print(string.find('hi'))\n",
    "print(string_find(string,'hi')) #custome function developed by me to find all occurence with index range"
   ]
  },
  {
   "cell_type": "markdown",
   "id": "041f61c6",
   "metadata": {},
   "source": [
    "#### using lower, upper and capitalize method of string"
   ]
  },
  {
   "cell_type": "code",
   "execution_count": 92,
   "id": "b8679a87",
   "metadata": {},
   "outputs": [
    {
     "name": "stdout",
     "output_type": "stream",
     "text": [
      "my name is hitesh sigh solanki.hitesh singh solanki is good hitman\n",
      "My name is hitesh sigh solanki.hitesh singh solanki is good hitman\n",
      "my name is hitesh sigh solanki.hitesh singh solanki is good hitman\n",
      "MY NAME IS HITESH SIGH SOLANKI.HITESH SINGH SOLANKI IS GOOD HITMAN\n"
     ]
    }
   ],
   "source": [
    "print(string)\n",
    "\n",
    "print(string.capitalize())\n",
    "print(string.lower())\n",
    "print(string.upper())"
   ]
  },
  {
   "cell_type": "markdown",
   "id": "e8a421af",
   "metadata": {},
   "source": [
    "#### other useful methods"
   ]
  },
  {
   "cell_type": "code",
   "execution_count": 94,
   "id": "31aac27f",
   "metadata": {},
   "outputs": [
    {
     "data": {
      "text/plain": [
       "'hitesh solanki'"
      ]
     },
     "execution_count": 94,
     "metadata": {},
     "output_type": "execute_result"
    }
   ],
   "source": [
    "'hiTesh solanki'.casefold() #lowe case"
   ]
  },
  {
   "cell_type": "code",
   "execution_count": 102,
   "id": "3c63f3bc",
   "metadata": {},
   "outputs": [
    {
     "data": {
      "text/plain": [
       "'                                         my name is hitesh                                          '"
      ]
     },
     "execution_count": 102,
     "metadata": {},
     "output_type": "execute_result"
    }
   ],
   "source": [
    "'my name is hitesh'.center(100) #making string center of line"
   ]
  },
  {
   "cell_type": "code",
   "execution_count": 103,
   "id": "60ed617b",
   "metadata": {},
   "outputs": [
    {
     "data": {
      "text/plain": [
       "2"
      ]
     },
     "execution_count": 103,
     "metadata": {},
     "output_type": "execute_result"
    }
   ],
   "source": [
    "## count method for counting occurence \n",
    "\n",
    "'My name is hitesh'.count('i')"
   ]
  },
  {
   "cell_type": "code",
   "execution_count": 105,
   "id": "9db7d1b3",
   "metadata": {},
   "outputs": [
    {
     "data": {
      "text/plain": [
       "3"
      ]
     },
     "execution_count": 105,
     "metadata": {},
     "output_type": "execute_result"
    }
   ],
   "source": [
    "### using index method for finding index of first occurence\n",
    "\n",
    "'my name is hitesh'.find('n')\n",
    "\n",
    "'my name is hitesh'.index('n')"
   ]
  },
  {
   "cell_type": "code",
   "execution_count": 110,
   "id": "4abba0f6",
   "metadata": {},
   "outputs": [
    {
     "name": "stdout",
     "output_type": "stream",
     "text": [
      "My name is Hitesh\n"
     ]
    }
   ],
   "source": [
    "## format method\n",
    "\n",
    "\n",
    "print('My name is {xx}'.format(xx='Hitesh'))"
   ]
  },
  {
   "cell_type": "code",
   "execution_count": 111,
   "id": "e9d7bee8",
   "metadata": {},
   "outputs": [
    {
     "name": "stdout",
     "output_type": "stream",
     "text": [
      "my name is hitesh\n"
     ]
    }
   ],
   "source": [
    "name = 'hitesh'\n",
    "print(f'my name is {name}')"
   ]
  },
  {
   "cell_type": "code",
   "execution_count": 150,
   "id": "0a9a81eb",
   "metadata": {},
   "outputs": [
    {
     "data": {
      "text/plain": [
       "True"
      ]
     },
     "execution_count": 150,
     "metadata": {},
     "output_type": "execute_result"
    }
   ],
   "source": [
    "### method for checking string property\n",
    "\n",
    "string2 = 'hitesh1'\n",
    "\n",
    "string2.isalnum()"
   ]
  },
  {
   "cell_type": "code",
   "execution_count": 149,
   "id": "5c9bfeb8",
   "metadata": {},
   "outputs": [
    {
     "data": {
      "text/plain": [
       "False"
      ]
     },
     "execution_count": 149,
     "metadata": {},
     "output_type": "execute_result"
    }
   ],
   "source": [
    "string2.isalpha()"
   ]
  },
  {
   "cell_type": "code",
   "execution_count": 148,
   "id": "e16d769c",
   "metadata": {},
   "outputs": [
    {
     "data": {
      "text/plain": [
       "False"
      ]
     },
     "execution_count": 148,
     "metadata": {},
     "output_type": "execute_result"
    }
   ],
   "source": [
    "string2.isdigit()"
   ]
  },
  {
   "cell_type": "code",
   "execution_count": 155,
   "id": "944b25e1",
   "metadata": {},
   "outputs": [
    {
     "name": "stdout",
     "output_type": "stream",
     "text": [
      "False\n",
      "True\n",
      "True\n"
     ]
    }
   ],
   "source": [
    "print(string2.isnumeric())\n",
    "\n",
    "print('5'.isdigit())\n",
    "\n",
    "print('2222'.isnumeric())"
   ]
  },
  {
   "cell_type": "code",
   "execution_count": 156,
   "id": "61deed7e",
   "metadata": {},
   "outputs": [
    {
     "data": {
      "text/plain": [
       "True"
      ]
     },
     "execution_count": 156,
     "metadata": {},
     "output_type": "execute_result"
    }
   ],
   "source": [
    "#### checking lowercase and uppercase\n",
    "\n",
    "'my name is hitesh'.islower()"
   ]
  },
  {
   "cell_type": "code",
   "execution_count": 157,
   "id": "88b0054c",
   "metadata": {},
   "outputs": [
    {
     "data": {
      "text/plain": [
       "False"
      ]
     },
     "execution_count": 157,
     "metadata": {},
     "output_type": "execute_result"
    }
   ],
   "source": [
    "'My name is hitesh'.isupper()"
   ]
  },
  {
   "cell_type": "code",
   "execution_count": 158,
   "id": "58a7bf55",
   "metadata": {},
   "outputs": [
    {
     "data": {
      "text/plain": [
       "True"
      ]
     },
     "execution_count": 158,
     "metadata": {},
     "output_type": "execute_result"
    }
   ],
   "source": [
    "'HITESH'.isupper()"
   ]
  },
  {
   "cell_type": "code",
   "execution_count": 161,
   "id": "ab47a3dc",
   "metadata": {},
   "outputs": [
    {
     "data": {
      "text/plain": [
       "('my name is ', 'hitesh', '')"
      ]
     },
     "execution_count": 161,
     "metadata": {},
     "output_type": "execute_result"
    }
   ],
   "source": [
    "### other methods\n",
    "\n",
    "'my name is hitesh'.partition('hitesh') ## make partition from the word given"
   ]
  },
  {
   "cell_type": "code",
   "execution_count": 162,
   "id": "d2924492",
   "metadata": {},
   "outputs": [
    {
     "data": {
      "text/plain": [
       "('My ', 'name', ' is hitesh')"
      ]
     },
     "execution_count": 162,
     "metadata": {},
     "output_type": "execute_result"
    }
   ],
   "source": [
    "'My name is hitesh'.partition('name')"
   ]
  },
  {
   "cell_type": "code",
   "execution_count": 167,
   "id": "f29e7483",
   "metadata": {},
   "outputs": [],
   "source": [
    "### replace method for replacing specified value\n",
    "\n",
    "name = 'my name is hitxsh'\n",
    "name = name.replace('x','e') #because string is not mutable"
   ]
  },
  {
   "cell_type": "code",
   "execution_count": 168,
   "id": "92bf4375",
   "metadata": {},
   "outputs": [
    {
     "data": {
      "text/plain": [
       "['my', 'name', 'is', 'hitesh']"
      ]
     },
     "execution_count": 168,
     "metadata": {},
     "output_type": "execute_result"
    }
   ],
   "source": [
    "### split method for spliting from specified value\n",
    "\n",
    "name.split(' ')"
   ]
  },
  {
   "cell_type": "code",
   "execution_count": 173,
   "id": "dfe17f4b",
   "metadata": {},
   "outputs": [
    {
     "name": "stdout",
     "output_type": "stream",
     "text": [
      "my name is hitesh\n",
      "     my name is hitesh\n",
      "my name is hitesh       \n"
     ]
    }
   ],
   "source": [
    "## strip method for striping spaces\n",
    "\n",
    "print('my name is hitesh    '.strip())\n",
    "print('     my name is hitesh   '.rstrip())\n",
    "print('      my name is hitesh       '.lstrip())"
   ]
  },
  {
   "cell_type": "code",
   "execution_count": 174,
   "id": "f2aa6acf",
   "metadata": {},
   "outputs": [
    {
     "data": {
      "text/plain": [
       "'My Name Is Hitesh Singh Solanki'"
      ]
     },
     "execution_count": 174,
     "metadata": {},
     "output_type": "execute_result"
    }
   ],
   "source": [
    "#ttile method will convert first letter of all word to capital\n",
    "\n",
    "'my name is hitesh singh solanki'.title()"
   ]
  },
  {
   "cell_type": "code",
   "execution_count": 177,
   "id": "c3d38010",
   "metadata": {},
   "outputs": [
    {
     "data": {
      "text/plain": [
       "'0000000000000000my name is hitesh'"
      ]
     },
     "execution_count": 177,
     "metadata": {},
     "output_type": "execute_result"
    }
   ],
   "source": [
    "#### misleneous\n",
    "\n",
    "'my name is hitesh'.zfill(33)"
   ]
  }
 ],
 "metadata": {
  "kernelspec": {
   "display_name": "Python 3.10.4 64-bit",
   "language": "python",
   "name": "python3"
  },
  "language_info": {
   "codemirror_mode": {
    "name": "ipython",
    "version": 3
   },
   "file_extension": ".py",
   "mimetype": "text/x-python",
   "name": "python",
   "nbconvert_exporter": "python",
   "pygments_lexer": "ipython3",
   "version": "3.10.6"
  },
  "vscode": {
   "interpreter": {
    "hash": "916dbcbb3f70747c44a77c7bcd40155683ae19c65e1c03b4aa3499c5328201f1"
   }
  }
 },
 "nbformat": 4,
 "nbformat_minor": 5
}
