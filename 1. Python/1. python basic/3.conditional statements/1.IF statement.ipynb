{
 "cells": [
  {
   "cell_type": "markdown",
   "source": [
    "IF statement"
   ],
   "metadata": {
    "collapsed": false
   }
  },
  {
   "cell_type": "code",
   "execution_count": 15,
   "outputs": [],
   "source": [
    "def intcheck(inp):\n",
    "\n",
    "    if type(inp) != int:\n",
    "\n",
    "        raise Exception('Please enter valid integer input')\n",
    "\n",
    "    elif inp > 1000:\n",
    "\n",
    "        raise Exception('Salary can not be greater then 1000')\n",
    "    else:\n",
    "\n",
    "        return inp"
   ],
   "metadata": {
    "collapsed": false
   }
  },
  {
   "cell_type": "code",
   "execution_count": 25,
   "outputs": [
    {
     "name": "stdout",
     "output_type": "stream",
     "text": [
      "Please enter valid integer\n"
     ]
    }
   ],
   "source": [
    "try:\n",
    "    u_input = int(input('Please neter your salary'))\n",
    "    u_input = intcheck(u_input)\n",
    "except ValueError as ex:\n",
    "\n",
    "    print('Please enter valid integer')\n",
    "\n",
    "except Exception as ex:\n",
    "\n",
    "    print(ex)\n",
    "\n",
    "else:\n",
    "\n",
    "    if u_input < 1000 and u_input > 500:\n",
    "\n",
    "        print('Buy Car')\n",
    "\n",
    "    elif u_input <500 and u_input > 100 :\n",
    "\n",
    "        print('Buy motorcycle')\n",
    "\n",
    "    else:\n",
    "\n",
    "        print('Nothing')"
   ],
   "metadata": {
    "collapsed": false
   }
  },
  {
   "cell_type": "markdown",
   "source": [],
   "metadata": {
    "collapsed": false
   }
  },
  {
   "cell_type": "markdown",
   "source": [
    "using 2 if statement"
   ],
   "metadata": {
    "collapsed": false
   }
  },
  {
   "cell_type": "markdown",
   "source": [],
   "metadata": {
    "collapsed": false
   }
  },
  {
   "cell_type": "code",
   "execution_count": 28,
   "outputs": [
    {
     "name": "stdout",
     "output_type": "stream",
     "text": [
      "good\n",
      "work hard\n"
     ]
    }
   ],
   "source": [
    "salary = 6000\n",
    "\n",
    "if salary > 5000 :\n",
    "\n",
    "    print('good')\n",
    "\n",
    "if salary > 10000:\n",
    "\n",
    "    print('very good')\n",
    "\n",
    "else:\n",
    "\n",
    "    print('work hard')"
   ],
   "metadata": {
    "collapsed": false
   }
  },
  {
   "cell_type": "markdown",
   "source": [],
   "metadata": {
    "collapsed": false
   }
  },
  {
   "cell_type": "markdown",
   "source": [],
   "metadata": {
    "collapsed": false
   }
  },
  {
   "cell_type": "markdown",
   "source": [],
   "metadata": {
    "collapsed": false
   }
  }
 ],
 "metadata": {
  "kernelspec": {
   "display_name": "Python 3",
   "language": "python",
   "name": "python3"
  },
  "language_info": {
   "codemirror_mode": {
    "name": "ipython",
    "version": 2
   },
   "file_extension": ".py",
   "mimetype": "text/x-python",
   "name": "python",
   "nbconvert_exporter": "python",
   "pygments_lexer": "ipython2",
   "version": "2.7.6"
  }
 },
 "nbformat": 4,
 "nbformat_minor": 0
}
