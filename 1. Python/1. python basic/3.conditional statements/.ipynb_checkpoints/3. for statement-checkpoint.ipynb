{
 "cells": [
  {
   "cell_type": "markdown",
   "id": "17db7b07",
   "metadata": {},
   "source": [
    "### for statement for iterable objects\n",
    "\n",
    "1. it used to loop over iterable objects \n",
    "2. like string, list, dicstionary, tuple and more"
   ]
  },
  {
   "cell_type": "markdown",
   "id": "553aff94",
   "metadata": {},
   "source": [
    "#### iteration example on string"
   ]
  },
  {
   "cell_type": "code",
   "execution_count": 1,
   "id": "d95ca8bb",
   "metadata": {},
   "outputs": [],
   "source": [
    "string = 'My name is hitesh'"
   ]
  },
  {
   "cell_type": "code",
   "execution_count": 2,
   "id": "9a3349a6",
   "metadata": {},
   "outputs": [
    {
     "name": "stdout",
     "output_type": "stream",
     "text": [
      "M\n",
      "y\n",
      " \n",
      "n\n",
      "a\n",
      "m\n",
      "e\n",
      " \n",
      "i\n",
      "s\n",
      " \n",
      "h\n",
      "i\n",
      "t\n",
      "e\n",
      "s\n",
      "h\n"
     ]
    }
   ],
   "source": [
    "for letter in string:\n",
    "    \n",
    "    print(letter)"
   ]
  },
  {
   "cell_type": "markdown",
   "id": "b12bb071",
   "metadata": {},
   "source": [
    "### removing spaces using for loop"
   ]
  },
  {
   "cell_type": "code",
   "execution_count": 3,
   "id": "a5723506",
   "metadata": {},
   "outputs": [],
   "source": [
    "string = 'my name is hitesh'"
   ]
  },
  {
   "cell_type": "code",
   "execution_count": 5,
   "id": "c4b1e266",
   "metadata": {},
   "outputs": [
    {
     "data": {
      "text/plain": [
       "'mynameishitesh'"
      ]
     },
     "execution_count": 5,
     "metadata": {},
     "output_type": "execute_result"
    }
   ],
   "source": [
    "new_letter = ''\n",
    "for letter in string:\n",
    "    \n",
    "    if letter == ' ':\n",
    "        pass\n",
    "    else:\n",
    "        new_letter += letter\n",
    "        \n",
    "new_letter"
   ]
  },
  {
   "cell_type": "code",
   "execution_count": null,
   "id": "616ebb60",
   "metadata": {},
   "outputs": [],
   "source": []
  },
  {
   "cell_type": "markdown",
   "id": "eb4b7d81",
   "metadata": {},
   "source": [
    "### using break and continue\n",
    "\n",
    "1. continue will restart the loop and else staement will execute after loop fails\n",
    "2. while break will stop the loop from executing and else will not execute"
   ]
  },
  {
   "cell_type": "code",
   "execution_count": null,
   "id": "68594c77",
   "metadata": {},
   "outputs": [],
   "source": []
  },
  {
   "cell_type": "code",
   "execution_count": 7,
   "id": "6e5d2afd",
   "metadata": {},
   "outputs": [
    {
     "name": "stdout",
     "output_type": "stream",
     "text": [
      "m\n",
      "y\n",
      " \n",
      "n\n",
      "a\n",
      "m\n",
      "e\n",
      " \n",
      "i\n",
      "s\n",
      " \n",
      "i\n",
      "t\n",
      "e\n",
      "s\n",
      "the last letter is : h\n",
      "i am gona execute at last\n"
     ]
    }
   ],
   "source": [
    "for letter in string:\n",
    "    \n",
    "    if letter == 'h':\n",
    "        continue\n",
    "    else :\n",
    "        \n",
    "        print(letter)\n",
    "else:\n",
    "    print(f'the last letter is : {letter}')\n",
    "    print('i am gona execute at last')"
   ]
  },
  {
   "cell_type": "code",
   "execution_count": 10,
   "id": "b7a4cb61",
   "metadata": {},
   "outputs": [
    {
     "name": "stdout",
     "output_type": "stream",
     "text": [
      "m\n",
      "y\n",
      " \n",
      "n\n",
      "a\n",
      "m\n",
      "e\n",
      " \n",
      "i\n",
      "s\n",
      " \n"
     ]
    }
   ],
   "source": [
    "#Break statement\n",
    "\n",
    "for letter in string:\n",
    "    \n",
    "    if letter == 'h':\n",
    "        break\n",
    "    else:\n",
    "        print(letter)\n",
    "else:\n",
    "    \n",
    "    print(f'The last letter is {letter}')\n",
    "    print('Final statement')"
   ]
  },
  {
   "cell_type": "markdown",
   "id": "1f856d3d",
   "metadata": {},
   "source": [
    "### making star patter using for loop"
   ]
  },
  {
   "cell_type": "code",
   "execution_count": 13,
   "id": "38da1c2a",
   "metadata": {},
   "outputs": [],
   "source": [
    "def starloop(n = 5):\n",
    "    \n",
    "    for star in range(1,n+1):\n",
    "        \n",
    "        print('*'*star)"
   ]
  },
  {
   "cell_type": "code",
   "execution_count": 18,
   "id": "c6208f73",
   "metadata": {},
   "outputs": [
    {
     "name": "stdout",
     "output_type": "stream",
     "text": [
      "*\n",
      "**\n",
      "***\n",
      "****\n",
      "*****\n"
     ]
    }
   ],
   "source": [
    "starloop()"
   ]
  },
  {
   "cell_type": "code",
   "execution_count": 22,
   "id": "1e072ef9",
   "metadata": {},
   "outputs": [],
   "source": [
    "def starloop2(n = 5):\n",
    "    \n",
    "    star = 1\n",
    "    \n",
    "    while star <= n:\n",
    "        \n",
    "        print('*'*star)\n",
    "        star += 1"
   ]
  },
  {
   "cell_type": "code",
   "execution_count": 26,
   "id": "d2ea8618",
   "metadata": {},
   "outputs": [
    {
     "name": "stdout",
     "output_type": "stream",
     "text": [
      "*\n",
      "**\n",
      "***\n",
      "****\n",
      "*****\n"
     ]
    }
   ],
   "source": [
    "starloop2()"
   ]
  },
  {
   "cell_type": "code",
   "execution_count": null,
   "id": "9895f8a7",
   "metadata": {},
   "outputs": [],
   "source": []
  },
  {
   "cell_type": "code",
   "execution_count": 60,
   "id": "f3ac2708",
   "metadata": {},
   "outputs": [],
   "source": [
    "def revstarloop(n = 5):\n",
    "    \n",
    "    for star in range(n,-1,-1):\n",
    "        space = n-star\n",
    "        print(' '*space +'* '*star)"
   ]
  },
  {
   "cell_type": "code",
   "execution_count": 62,
   "id": "b95663a1",
   "metadata": {},
   "outputs": [
    {
     "name": "stdout",
     "output_type": "stream",
     "text": [
      "* * * * * * * * * * \n",
      " * * * * * * * * * \n",
      "  * * * * * * * * \n",
      "   * * * * * * * \n",
      "    * * * * * * \n",
      "     * * * * * \n",
      "      * * * * \n",
      "       * * * \n",
      "        * * \n",
      "         * \n",
      "          \n"
     ]
    }
   ],
   "source": [
    "revstarloop(10)"
   ]
  },
  {
   "cell_type": "code",
   "execution_count": 70,
   "id": "cc388fb5",
   "metadata": {},
   "outputs": [],
   "source": [
    "def forwloop(n = 5):\n",
    "    \n",
    "    for star in range(1,n+1):\n",
    "        space = n - star\n",
    "        print(' '*space + '* '*star)"
   ]
  },
  {
   "cell_type": "code",
   "execution_count": 71,
   "id": "6a440375",
   "metadata": {},
   "outputs": [
    {
     "name": "stdout",
     "output_type": "stream",
     "text": [
      "    * \n",
      "   * * \n",
      "  * * * \n",
      " * * * * \n",
      "* * * * * \n"
     ]
    }
   ],
   "source": [
    "forwloop()"
   ]
  }
 ],
 "metadata": {
  "kernelspec": {
   "display_name": "Python 3 (ipykernel)",
   "language": "python",
   "name": "python3"
  },
  "language_info": {
   "codemirror_mode": {
    "name": "ipython",
    "version": 3
   },
   "file_extension": ".py",
   "mimetype": "text/x-python",
   "name": "python",
   "nbconvert_exporter": "python",
   "pygments_lexer": "ipython3",
   "version": "3.9.12"
  }
 },
 "nbformat": 4,
 "nbformat_minor": 5
}
