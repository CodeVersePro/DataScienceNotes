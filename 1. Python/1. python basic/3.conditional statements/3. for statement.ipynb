{
 "cells": [
  {
   "cell_type": "markdown",
   "id": "17db7b07",
   "metadata": {},
   "source": [
    "### for statement for iterable objects\n",
    "\n",
    "1. it used to loop over iterable objects \n",
    "2. like string, list, dicstionary, tuple and more"
   ]
  },
  {
   "cell_type": "markdown",
   "id": "553aff94",
   "metadata": {},
   "source": [
    "#### iteration example on string"
   ]
  },
  {
   "cell_type": "code",
   "execution_count": 2,
   "id": "d95ca8bb",
   "metadata": {},
   "outputs": [],
   "source": [
    "string = 'My name is hitesh'"
   ]
  },
  {
   "cell_type": "code",
   "execution_count": 2,
   "id": "9a3349a6",
   "metadata": {},
   "outputs": [
    {
     "name": "stdout",
     "output_type": "stream",
     "text": [
      "M\n",
      "y\n",
      " \n",
      "n\n",
      "a\n",
      "m\n",
      "e\n",
      " \n",
      "i\n",
      "s\n",
      " \n",
      "h\n",
      "i\n",
      "t\n",
      "e\n",
      "s\n",
      "h\n"
     ]
    }
   ],
   "source": [
    "for letter in string:\n",
    "    \n",
    "    print(letter)"
   ]
  },
  {
   "cell_type": "markdown",
   "id": "b12bb071",
   "metadata": {},
   "source": [
    "### removing spaces using for loop"
   ]
  },
  {
   "cell_type": "code",
   "execution_count": 3,
   "id": "a5723506",
   "metadata": {},
   "outputs": [],
   "source": [
    "string = 'my name is hitesh'"
   ]
  },
  {
   "cell_type": "code",
   "execution_count": 5,
   "id": "c4b1e266",
   "metadata": {},
   "outputs": [
    {
     "data": {
      "text/plain": [
       "'mynameishitesh'"
      ]
     },
     "execution_count": 5,
     "metadata": {},
     "output_type": "execute_result"
    }
   ],
   "source": [
    "new_letter = ''\n",
    "for letter in string:\n",
    "    \n",
    "    if letter == ' ':\n",
    "        pass\n",
    "    else:\n",
    "        new_letter += letter\n",
    "        \n",
    "new_letter"
   ]
  },
  {
   "cell_type": "code",
   "execution_count": null,
   "id": "616ebb60",
   "metadata": {},
   "outputs": [],
   "source": []
  },
  {
   "cell_type": "markdown",
   "id": "eb4b7d81",
   "metadata": {},
   "source": [
    "### using break and continue\n",
    "\n",
    "1. continue will restart the loop and else staement will execute after loop fails\n",
    "2. while break will stop the loop from executing and else will not execute"
   ]
  },
  {
   "cell_type": "code",
   "execution_count": null,
   "id": "68594c77",
   "metadata": {},
   "outputs": [],
   "source": []
  },
  {
   "cell_type": "code",
   "execution_count": 9,
   "id": "6e5d2afd",
   "metadata": {},
   "outputs": [
    {
     "name": "stdout",
     "output_type": "stream",
     "text": [
      "M\n",
      "y\n",
      "n\n",
      "a\n",
      "m\n",
      "e\n",
      "i\n",
      "s\n",
      "i\n",
      "t\n",
      "e\n",
      "s\n",
      "the last letter is : h\n",
      "i am gona execute at last\n"
     ]
    }
   ],
   "source": [
    "for letter in string:\n",
    "    \n",
    "    if letter == 'h':\n",
    "        pass\n",
    "    elif letter == ' ':\n",
    "        pass\n",
    "    else :\n",
    "        \n",
    "        print(letter)\n",
    "else:\n",
    "    print(f'the last letter is : {letter}')\n",
    "    print('i am gona execute at last')"
   ]
  },
  {
   "cell_type": "code",
   "execution_count": 10,
   "id": "b7a4cb61",
   "metadata": {},
   "outputs": [
    {
     "name": "stdout",
     "output_type": "stream",
     "text": [
      "m\n",
      "y\n",
      " \n",
      "n\n",
      "a\n",
      "m\n",
      "e\n",
      " \n",
      "i\n",
      "s\n",
      " \n"
     ]
    }
   ],
   "source": [
    "#Break statement\n",
    "\n",
    "for letter in string:\n",
    "    \n",
    "    if letter == 'h':\n",
    "        break\n",
    "    else:\n",
    "        print(letter)\n",
    "else:\n",
    "    \n",
    "    print(f'The last letter is {letter}')\n",
    "    print('Final statement')"
   ]
  },
  {
   "cell_type": "markdown",
   "id": "1f856d3d",
   "metadata": {},
   "source": [
    "### making star patter using for loop"
   ]
  },
  {
   "cell_type": "code",
   "execution_count": 13,
   "id": "38da1c2a",
   "metadata": {},
   "outputs": [],
   "source": [
    "def starloop(n = 5):\n",
    "    \n",
    "    for star in range(1,n+1):\n",
    "        \n",
    "        print('*'*star)"
   ]
  },
  {
   "cell_type": "code",
   "execution_count": 18,
   "id": "c6208f73",
   "metadata": {},
   "outputs": [
    {
     "name": "stdout",
     "output_type": "stream",
     "text": [
      "*\n",
      "**\n",
      "***\n",
      "****\n",
      "*****\n"
     ]
    }
   ],
   "source": [
    "starloop()"
   ]
  },
  {
   "cell_type": "code",
   "execution_count": 22,
   "id": "1e072ef9",
   "metadata": {},
   "outputs": [],
   "source": [
    "def starloop2(n = 5):\n",
    "    \n",
    "    star = 1\n",
    "    \n",
    "    while star <= n:\n",
    "        \n",
    "        print('*'*star)\n",
    "        star += 1"
   ]
  },
  {
   "cell_type": "code",
   "execution_count": 26,
   "id": "d2ea8618",
   "metadata": {},
   "outputs": [
    {
     "name": "stdout",
     "output_type": "stream",
     "text": [
      "*\n",
      "**\n",
      "***\n",
      "****\n",
      "*****\n"
     ]
    }
   ],
   "source": [
    "starloop2()"
   ]
  },
  {
   "cell_type": "code",
   "execution_count": null,
   "id": "9895f8a7",
   "metadata": {},
   "outputs": [],
   "source": []
  },
  {
   "cell_type": "code",
   "execution_count": 60,
   "id": "f3ac2708",
   "metadata": {},
   "outputs": [],
   "source": [
    "def revstarloop(n = 5):\n",
    "    \n",
    "    for star in range(n,-1,-1):\n",
    "        space = n-star\n",
    "        print(' '*space +'* '*star)"
   ]
  },
  {
   "cell_type": "code",
   "execution_count": 62,
   "id": "b95663a1",
   "metadata": {},
   "outputs": [
    {
     "name": "stdout",
     "output_type": "stream",
     "text": [
      "* * * * * * * * * * \n",
      " * * * * * * * * * \n",
      "  * * * * * * * * \n",
      "   * * * * * * * \n",
      "    * * * * * * \n",
      "     * * * * * \n",
      "      * * * * \n",
      "       * * * \n",
      "        * * \n",
      "         * \n",
      "          \n"
     ]
    }
   ],
   "source": [
    "revstarloop(10)"
   ]
  },
  {
   "cell_type": "code",
   "execution_count": 70,
   "id": "cc388fb5",
   "metadata": {},
   "outputs": [],
   "source": [
    "def forwloop(n = 5):\n",
    "    \n",
    "    for star in range(1,n+1):\n",
    "        space = n - star\n",
    "        print(' '*space + '* '*star)"
   ]
  },
  {
   "cell_type": "code",
   "execution_count": 71,
   "id": "6a440375",
   "metadata": {},
   "outputs": [
    {
     "name": "stdout",
     "output_type": "stream",
     "text": [
      "    * \n",
      "   * * \n",
      "  * * * \n",
      " * * * * \n",
      "* * * * * \n"
     ]
    }
   ],
   "source": [
    "forwloop()"
   ]
  },
  {
   "cell_type": "markdown",
   "id": "d81e264e",
   "metadata": {},
   "source": [
    "#### some other basic stuff \n",
    "\n",
    "enumurate \n",
    "string interation "
   ]
  },
  {
   "cell_type": "code",
   "execution_count": 3,
   "id": "a1d68bb4",
   "metadata": {},
   "outputs": [],
   "source": [
    "list_ex = list(range(0,6))"
   ]
  },
  {
   "cell_type": "code",
   "execution_count": 4,
   "id": "ad672a8b",
   "metadata": {},
   "outputs": [
    {
     "name": "stdout",
     "output_type": "stream",
     "text": [
      "0 : 0\n",
      "1 : 1\n",
      "2 : 2\n",
      "3 : 3\n",
      "4 : 4\n",
      "5 : 5\n"
     ]
    }
   ],
   "source": [
    "for index, value in enumerate(list_ex):\n",
    "\n",
    "    print(f'{index} : {value}')"
   ]
  },
  {
   "cell_type": "code",
   "execution_count": 5,
   "id": "bb898f86",
   "metadata": {},
   "outputs": [
    {
     "name": "stdout",
     "output_type": "stream",
     "text": [
      "0 : h\n",
      "1 : i\n",
      "2 : t\n",
      "3 : e\n",
      "4 : s\n",
      "5 : h\n"
     ]
    }
   ],
   "source": [
    "# iteration over string\n",
    "\n",
    "name = 'hitesh'\n",
    "\n",
    "for index, values in enumerate(name):\n",
    "\n",
    "    print(f'{index} : {values}')"
   ]
  },
  {
   "cell_type": "markdown",
   "id": "248e0d22",
   "metadata": {},
   "source": [
    "##### Exercise"
   ]
  },
  {
   "cell_type": "code",
   "execution_count": 12,
   "id": "070f52d3",
   "metadata": {},
   "outputs": [],
   "source": [
    "# creating list sum function using iteration\n",
    "\n",
    "def list_sum(listin):\n",
    "\n",
    "    try:\n",
    "\n",
    "        if type(listin) != list:\n",
    "\n",
    "            raise Exception('Please enter list as an unput only')\n",
    "\n",
    "    except Exception as ex:\n",
    "\n",
    "        print(ex)\n",
    "    else:\n",
    "\n",
    "\n",
    "        sum = 0 \n",
    "\n",
    "        for elem in listin:\n",
    "\n",
    "            sum = sum + elem\n",
    "\n",
    "        return print(sum)"
   ]
  },
  {
   "cell_type": "code",
   "execution_count": 18,
   "id": "646e8ad3",
   "metadata": {},
   "outputs": [
    {
     "name": "stdout",
     "output_type": "stream",
     "text": [
      "15\n"
     ]
    }
   ],
   "source": [
    "list_sum([1,2,3,4,5])"
   ]
  },
  {
   "cell_type": "code",
   "execution_count": 19,
   "id": "3339112a",
   "metadata": {},
   "outputs": [],
   "source": [
    "### finding the maximum value of the list without using max funtion using iteration\n",
    "\n",
    "def maxfinder(listin):\n",
    "\n",
    "    max = 0 \n",
    "\n",
    "    for elem in listin:\n",
    "\n",
    "        if elem > max :\n",
    "\n",
    "            max = elem\n",
    "\n",
    "        else:\n",
    "\n",
    "            pass\n",
    "    return print(max)"
   ]
  },
  {
   "cell_type": "code",
   "execution_count": 23,
   "id": "29e6607e",
   "metadata": {},
   "outputs": [
    {
     "name": "stdout",
     "output_type": "stream",
     "text": [
      "3763\n"
     ]
    }
   ],
   "source": [
    "maxfinder([1,10,3,4,2828,3763,222,33])"
   ]
  },
  {
   "cell_type": "code",
   "execution_count": 31,
   "id": "33566493",
   "metadata": {},
   "outputs": [],
   "source": [
    "## max index finder \n",
    "\n",
    "def maxindexfind(listin):\n",
    "\n",
    "    max = 0\n",
    "\n",
    "    for elem in listin:\n",
    "\n",
    "        if elem > max:\n",
    "\n",
    "            max = elem\n",
    "\n",
    "        else:\n",
    "\n",
    "            pass\n",
    "\n",
    "    max_index = listin.index(max)\n",
    "\n",
    "    return print(max_index)\n"
   ]
  },
  {
   "cell_type": "code",
   "execution_count": 32,
   "id": "c9dbee2f",
   "metadata": {},
   "outputs": [
    {
     "name": "stdout",
     "output_type": "stream",
     "text": [
      "2\n"
     ]
    }
   ],
   "source": [
    "maxindexfind([1,2,444,5,6])"
   ]
  },
  {
   "cell_type": "code",
   "execution_count": 33,
   "id": "c2641734",
   "metadata": {},
   "outputs": [],
   "source": [
    "## reversing list without reverse method\n",
    "\n",
    "def listreverse(listin):\n",
    "\n",
    "    reverse_list = []\n",
    "\n",
    "    for elem in listin:\n",
    "\n",
    "        reverse_list.insert(0,elem)\n",
    "\n",
    "    return print(reverse_list)"
   ]
  },
  {
   "cell_type": "code",
   "execution_count": 35,
   "id": "2d09882f",
   "metadata": {},
   "outputs": [
    {
     "name": "stdout",
     "output_type": "stream",
     "text": [
      "[555, 3, 2, 1]\n"
     ]
    }
   ],
   "source": [
    "listreverse([1,2,3,555])"
   ]
  },
  {
   "cell_type": "code",
   "execution_count": null,
   "id": "4384a89b",
   "metadata": {},
   "outputs": [],
   "source": []
  },
  {
   "cell_type": "code",
   "execution_count": 36,
   "id": "d4218f8d",
   "metadata": {},
   "outputs": [],
   "source": [
    "### making funtion issorted, will check if list is sorted in ascending order\n",
    "\n",
    "def issorted(listin):\n",
    "\n",
    "    sorted_list = sorted(listin)\n",
    "\n",
    "    if listin == sorted_list:\n",
    "\n",
    "        print('List is sorted')\n",
    "\n",
    "    else:\n",
    "\n",
    "        print('List is not sorted')"
   ]
  },
  {
   "cell_type": "code",
   "execution_count": 39,
   "id": "a0a75edb",
   "metadata": {},
   "outputs": [
    {
     "name": "stdout",
     "output_type": "stream",
     "text": [
      "List is sorted\n"
     ]
    }
   ],
   "source": [
    "issorted([1,2,2,3])"
   ]
  },
  {
   "cell_type": "code",
   "execution_count": 73,
   "id": "84fd1bec",
   "metadata": {},
   "outputs": [],
   "source": [
    "def issorted2(listin):\n",
    "\n",
    "    for index,elem in enumerate(listin):\n",
    "\n",
    "        if index != len(listin) -1:\n",
    "\n",
    "            if listin[index] <= listin[index + 1]:\n",
    "\n",
    "                pass\n",
    "            else:\n",
    "                print('List is not sorted')\n",
    "                break\n",
    "        else:\n",
    "\n",
    "            pass\n",
    "\n",
    "    else:\n",
    "\n",
    "        print('sorted')"
   ]
  },
  {
   "cell_type": "code",
   "execution_count": 77,
   "id": "f7be21f5",
   "metadata": {},
   "outputs": [
    {
     "name": "stdout",
     "output_type": "stream",
     "text": [
      "sorted\n"
     ]
    }
   ],
   "source": [
    "issorted2([0,1,2,2,3,5])"
   ]
  },
  {
   "cell_type": "code",
   "execution_count": 109,
   "id": "41658b55",
   "metadata": {},
   "outputs": [],
   "source": [
    "## isduplicate function to check if list have suplicate values and their index\n",
    "\n",
    "\n",
    "def isduplicate(listin):\n",
    "\n",
    "    for elem in listin:\n",
    "\n",
    "        if listin.count(elem) > 1 :\n",
    "\n",
    "            print('True')\n",
    "            break\n",
    "\n",
    "    else:\n",
    "\n",
    "        print('Flase')"
   ]
  },
  {
   "cell_type": "code",
   "execution_count": 111,
   "id": "79044a22",
   "metadata": {},
   "outputs": [
    {
     "name": "stdout",
     "output_type": "stream",
     "text": [
      "Flase\n"
     ]
    }
   ],
   "source": [
    "isduplicate([1,2,3,4])"
   ]
  },
  {
   "cell_type": "code",
   "execution_count": 107,
   "id": "2f784886",
   "metadata": {},
   "outputs": [],
   "source": [
    "def isduplicate2(listin):\n",
    "\n",
    "    for index, elem in enumerate(listin):\n",
    "\n",
    "        if listin.count(elem) > 1 :\n",
    "\n",
    "            dupli_index = []\n",
    "\n",
    "            for index2,elem2 in enumerate(listin):\n",
    "\n",
    "                if elem == elem2:\n",
    "\n",
    "                    dupli_index.append(index2)\n",
    "\n",
    "                else:\n",
    "\n",
    "                    pass\n",
    "\n",
    "            print(f'the {elem} is repeated at indexes {dupli_index}')\n",
    "            \n",
    "\n",
    "        else:\n",
    "            pass\n",
    "\n",
    "    \n",
    "    else:\n",
    "\n",
    "        pass"
   ]
  },
  {
   "cell_type": "code",
   "execution_count": 108,
   "id": "95c33bbc",
   "metadata": {},
   "outputs": [
    {
     "name": "stdout",
     "output_type": "stream",
     "text": [
      "the 3 is repeated at indexes [2, 3]\n",
      "the 3 is repeated at indexes [2, 3]\n",
      "the 5 is repeated at indexes [4, 5]\n",
      "the 5 is repeated at indexes [4, 5]\n"
     ]
    }
   ],
   "source": [
    "isduplicate2([1,2,3,3,5,5])"
   ]
  },
  {
   "cell_type": "code",
   "execution_count": 122,
   "id": "1742f443",
   "metadata": {},
   "outputs": [],
   "source": [
    "### even oddd number printer in descending order\n",
    "\n",
    "def oddevenprint(numberin):\n",
    "\n",
    "    for elem in range (numberin,0,-1):\n",
    "\n",
    "        if elem%2 == 0:\n",
    "\n",
    "            print(f'Even number : {elem}')\n",
    "\n",
    "        else:\n",
    "\n",
    "            print(f'Odd number : {elem}')"
   ]
  },
  {
   "cell_type": "code",
   "execution_count": 125,
   "id": "2095e718",
   "metadata": {},
   "outputs": [
    {
     "name": "stdout",
     "output_type": "stream",
     "text": [
      "Odd number : 5\n",
      "Even number : 4\n",
      "Odd number : 3\n",
      "Even number : 2\n",
      "Odd number : 1\n"
     ]
    }
   ],
   "source": [
    "oddevenprint(5)"
   ]
  },
  {
   "cell_type": "code",
   "execution_count": null,
   "id": "3855b6b7",
   "metadata": {},
   "outputs": [],
   "source": []
  }
 ],
 "metadata": {
  "kernelspec": {
   "display_name": "Python 3.10.6 64-bit",
   "language": "python",
   "name": "python3"
  },
  "language_info": {
   "codemirror_mode": {
    "name": "ipython",
    "version": 3
   },
   "file_extension": ".py",
   "mimetype": "text/x-python",
   "name": "python",
   "nbconvert_exporter": "python",
   "pygments_lexer": "ipython3",
   "version": "3.10.6"
  },
  "vscode": {
   "interpreter": {
    "hash": "916dbcbb3f70747c44a77c7bcd40155683ae19c65e1c03b4aa3499c5328201f1"
   }
  }
 },
 "nbformat": 4,
 "nbformat_minor": 5
}
