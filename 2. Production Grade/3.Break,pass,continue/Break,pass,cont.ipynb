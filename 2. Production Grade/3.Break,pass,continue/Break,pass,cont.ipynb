{
 "cells": [
  {
   "cell_type": "markdown",
   "source": [
    "Here we are going to lear, how to use break pass and continue\n",
    "\n",
    "1. Break : this will totally stop the loop from excecuting\n",
    "\n",
    "2. pass : just pass the block and do nothing\n",
    "\n",
    "3. continue : it will not pass or not break the loop but restart the loop from the begining"
   ],
   "metadata": {
    "collapsed": false
   }
  },
  {
   "cell_type": "code",
   "execution_count": null,
   "outputs": [],
   "source": [],
   "metadata": {
    "collapsed": false
   }
  },
  {
   "cell_type": "code",
   "execution_count": 5,
   "outputs": [
    {
     "name": "stdout",
     "output_type": "stream",
     "text": [
      "error :  invalid literal for int() with base 10: 'ddd'\n",
      "error :  invalid literal for int() with base 10: 'dddd'\n",
      "error :  invalid literal for int() with base 10: 'ddd'\n",
      "error :  invalid literal for int() with base 10: 'dddd'\n",
      "You entered correct value\n",
      "Loop closed\n"
     ]
    }
   ],
   "source": [
    "while True:\n",
    "    try:\n",
    "        a = int(input('Please enter your number'))\n",
    "    except Exception as ex:\n",
    "        print('error : ',ex)\n",
    "\n",
    "    else:\n",
    "        print('You entered correct value')\n",
    "        break\n",
    "\n",
    "print('Loop closed')\n",
    "\n"
   ],
   "metadata": {
    "collapsed": false
   }
  }
 ],
 "metadata": {
  "kernelspec": {
   "display_name": "Python 3",
   "language": "python",
   "name": "python3"
  },
  "language_info": {
   "codemirror_mode": {
    "name": "ipython",
    "version": 2
   },
   "file_extension": ".py",
   "mimetype": "text/x-python",
   "name": "python",
   "nbconvert_exporter": "python",
   "pygments_lexer": "ipython2",
   "version": "2.7.6"
  }
 },
 "nbformat": 4,
 "nbformat_minor": 0
}
