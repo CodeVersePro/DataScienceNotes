{
 "cells": [
  {
   "cell_type": "markdown",
   "metadata": {
    "collapsed": false
   },
   "source": [
    "Here we are going to lear, how to use break pass and continue\n",
    "\n",
    "1. Break : this will totally stop the loop from excecuting\n",
    "\n",
    "2. pass : just pass the block and do nothing\n",
    "\n",
    "3. continue : it will not pass or not break the loop but restart the loop from the begining"
   ]
  },
  {
   "cell_type": "code",
   "execution_count": null,
   "metadata": {
    "collapsed": false
   },
   "outputs": [],
   "source": []
  },
  {
   "cell_type": "code",
   "execution_count": 1,
   "metadata": {
    "collapsed": false
   },
   "outputs": [
    {
     "name": "stdout",
     "output_type": "stream",
     "text": [
      "You entered correct value\n",
      "Loop closed\n"
     ]
    }
   ],
   "source": [
    "while True:\n",
    "    try:\n",
    "        a = int(input('Please enter your number'))\n",
    "    except Exception as ex:\n",
    "        print('error : ',ex)\n",
    "\n",
    "    else:\n",
    "        print('You entered correct value')\n",
    "        break\n",
    "\n",
    "print('Loop closed')\n",
    "\n"
   ]
  },
  {
   "cell_type": "code",
   "execution_count": 7,
   "metadata": {},
   "outputs": [
    {
     "name": "stdout",
     "output_type": "stream",
     "text": [
      "m\n",
      "Letter printed\n",
      "y\n",
      "Letter printed\n",
      " \n",
      "Letter printed\n",
      "Letter printed\n",
      "a\n",
      "Letter printed\n",
      "m\n",
      "Letter printed\n",
      "e\n",
      "Letter printed\n",
      " \n",
      "Letter printed\n",
      "i\n",
      "Letter printed\n",
      "s\n",
      "Letter printed\n",
      " \n",
      "Letter printed\n",
      "i\n",
      "Letter printed\n",
      "t\n",
      "Letter printed\n",
      "e\n",
      "Letter printed\n",
      "s\n",
      "Letter printed\n"
     ]
    }
   ],
   "source": [
    "string1 = 'my name is hitesh'\n",
    "\n",
    "for letter in string1 :\n",
    "\n",
    "    if letter == 'h':\n",
    "        continue\n",
    "\n",
    "    elif letter == 'n':\n",
    "        \n",
    "        pass\n",
    "        \n",
    "    else:\n",
    "        print(letter)\n",
    "\n",
    "    print('Letter printed')"
   ]
  }
 ],
 "metadata": {
  "kernelspec": {
   "display_name": "Python 3.9.12 ('base')",
   "language": "python",
   "name": "python3"
  },
  "language_info": {
   "codemirror_mode": {
    "name": "ipython",
    "version": 3
   },
   "file_extension": ".py",
   "mimetype": "text/x-python",
   "name": "python",
   "nbconvert_exporter": "python",
   "pygments_lexer": "ipython3",
   "version": "3.9.12"
  },
  "vscode": {
   "interpreter": {
    "hash": "d92b780ac215699fe294cd56770982570c09e9149ed812f4b38cb003e52abf06"
   }
  }
 },
 "nbformat": 4,
 "nbformat_minor": 0
}
