{
 "cells": [
  {
   "cell_type": "markdown",
   "source": [
    "two type of error\n",
    "\n",
    "1. synatx : we have to resolve before production\n",
    "2. runtime : use exceptional handling"
   ],
   "metadata": {
    "collapsed": false
   }
  },
  {
   "cell_type": "markdown",
   "source": [
    "exception handling helps in\n",
    "\n",
    "1. resolving error\n",
    "2. seamless run of code beyond error"
   ],
   "metadata": {
    "collapsed": false
   }
  },
  {
   "cell_type": "markdown",
   "source": [
    "Try and Except Use\n"
   ],
   "metadata": {
    "collapsed": false
   }
  },
  {
   "cell_type": "code",
   "execution_count": 3,
   "outputs": [
    {
     "ename": "FileNotFoundError",
     "evalue": "[Errno 2] No such file or directory: 'myfile.txt'",
     "output_type": "error",
     "traceback": [
      "\u001B[1;31m---------------------------------------------------------------------------\u001B[0m",
      "\u001B[1;31mFileNotFoundError\u001B[0m                         Traceback (most recent call last)",
      "Cell \u001B[1;32mIn [3], line 1\u001B[0m\n\u001B[1;32m----> 1\u001B[0m file \u001B[38;5;241m=\u001B[39m \u001B[38;5;28;43mopen\u001B[39;49m\u001B[43m(\u001B[49m\u001B[38;5;124;43m'\u001B[39;49m\u001B[38;5;124;43mmyfile.txt\u001B[39;49m\u001B[38;5;124;43m'\u001B[39;49m\u001B[43m,\u001B[49m\u001B[38;5;124;43m'\u001B[39;49m\u001B[38;5;124;43mr\u001B[39;49m\u001B[38;5;124;43m'\u001B[39;49m\u001B[43m)\u001B[49m\n",
      "File \u001B[1;32m~\\miniconda3\\lib\\site-packages\\IPython\\core\\interactiveshell.py:282\u001B[0m, in \u001B[0;36m_modified_open\u001B[1;34m(file, *args, **kwargs)\u001B[0m\n\u001B[0;32m    275\u001B[0m \u001B[38;5;28;01mif\u001B[39;00m file \u001B[38;5;129;01min\u001B[39;00m {\u001B[38;5;241m0\u001B[39m, \u001B[38;5;241m1\u001B[39m, \u001B[38;5;241m2\u001B[39m}:\n\u001B[0;32m    276\u001B[0m     \u001B[38;5;28;01mraise\u001B[39;00m \u001B[38;5;167;01mValueError\u001B[39;00m(\n\u001B[0;32m    277\u001B[0m         \u001B[38;5;124mf\u001B[39m\u001B[38;5;124m\"\u001B[39m\u001B[38;5;124mIPython won\u001B[39m\u001B[38;5;124m'\u001B[39m\u001B[38;5;124mt let you open fd=\u001B[39m\u001B[38;5;132;01m{\u001B[39;00mfile\u001B[38;5;132;01m}\u001B[39;00m\u001B[38;5;124m by default \u001B[39m\u001B[38;5;124m\"\u001B[39m\n\u001B[0;32m    278\u001B[0m         \u001B[38;5;124m\"\u001B[39m\u001B[38;5;124mas it is likely to crash IPython. If you know what you are doing, \u001B[39m\u001B[38;5;124m\"\u001B[39m\n\u001B[0;32m    279\u001B[0m         \u001B[38;5;124m\"\u001B[39m\u001B[38;5;124myou can use builtins\u001B[39m\u001B[38;5;124m'\u001B[39m\u001B[38;5;124m open.\u001B[39m\u001B[38;5;124m\"\u001B[39m\n\u001B[0;32m    280\u001B[0m     )\n\u001B[1;32m--> 282\u001B[0m \u001B[38;5;28;01mreturn\u001B[39;00m io_open(file, \u001B[38;5;241m*\u001B[39margs, \u001B[38;5;241m*\u001B[39m\u001B[38;5;241m*\u001B[39mkwargs)\n",
      "\u001B[1;31mFileNotFoundError\u001B[0m: [Errno 2] No such file or directory: 'myfile.txt'"
     ]
    }
   ],
   "source": [
    "file = open('myfile.txt','r')"
   ],
   "metadata": {
    "collapsed": false
   }
  },
  {
   "cell_type": "code",
   "execution_count": 5,
   "outputs": [
    {
     "name": "stdout",
     "output_type": "stream",
     "text": [
      "code run successfull\n"
     ]
    }
   ],
   "source": [
    "try:\n",
    "    file = open('myfile.txt','r')\n",
    "except:\n",
    "    print('code run successfull')\n",
    "    #because of error in above code except part run"
   ],
   "metadata": {
    "collapsed": false
   }
  },
  {
   "cell_type": "markdown",
   "source": [
    "devision example"
   ],
   "metadata": {
    "collapsed": false
   }
  },
  {
   "cell_type": "code",
   "execution_count": 6,
   "outputs": [
    {
     "ename": "ZeroDivisionError",
     "evalue": "division by zero",
     "output_type": "error",
     "traceback": [
      "\u001B[1;31m---------------------------------------------------------------------------\u001B[0m",
      "\u001B[1;31mZeroDivisionError\u001B[0m                         Traceback (most recent call last)",
      "Cell \u001B[1;32mIn [6], line 1\u001B[0m\n\u001B[1;32m----> 1\u001B[0m a \u001B[38;5;241m=\u001B[39m \u001B[38;5;241;43m5\u001B[39;49m\u001B[38;5;241;43m/\u001B[39;49m\u001B[38;5;241;43m0\u001B[39;49m\n",
      "\u001B[1;31mZeroDivisionError\u001B[0m: division by zero"
     ]
    }
   ],
   "source": [
    "a = 5/0"
   ],
   "metadata": {
    "collapsed": false
   }
  },
  {
   "cell_type": "code",
   "execution_count": 11,
   "outputs": [
    {
     "name": "stdout",
     "output_type": "stream",
     "text": [
      "0.5555555555555556\n"
     ]
    }
   ],
   "source": [
    "try:\n",
    "\n",
    "    a = 5/9\n",
    "    print(a)\n",
    "    #this will excecute as no error\n",
    "\n",
    "except:\n",
    "\n",
    "    print('INF')"
   ],
   "metadata": {
    "collapsed": false
   }
  },
  {
   "cell_type": "code",
   "execution_count": null,
   "outputs": [],
   "source": [],
   "metadata": {
    "collapsed": false
   }
  },
  {
   "cell_type": "markdown",
   "source": [
    "using standard error code\n",
    "\n",
    "1.there are multiple error available in exception handling\n",
    "2. mentioning perticular error in exception will handle only that"
   ],
   "metadata": {
    "collapsed": false
   }
  },
  {
   "cell_type": "code",
   "execution_count": 21,
   "outputs": [
    {
     "name": "stdout",
     "output_type": "stream",
     "text": [
      "ArithmeticError occured\n"
     ]
    }
   ],
   "source": [
    "try:\n",
    "\n",
    "    #data = open('fff.txt','r')\n",
    "    a = 5/0\n",
    "    print(a)\n",
    "\n",
    "except IOError:\n",
    "\n",
    "    print('Please look at input')\n",
    "\n",
    "except ArithmeticError:\n",
    "\n",
    "    print('ArithmeticError occured')\n",
    "\n",
    "except:\n",
    "\n",
    "    print('Unknown error')"
   ],
   "metadata": {
    "collapsed": false
   }
  },
  {
   "cell_type": "markdown",
   "source": [],
   "metadata": {
    "collapsed": false
   }
  },
  {
   "cell_type": "markdown",
   "source": [
    "Getting specific error and reflicting in code\n"
   ],
   "metadata": {
    "collapsed": false
   }
  },
  {
   "cell_type": "code",
   "execution_count": 24,
   "outputs": [
    {
     "name": "stdout",
     "output_type": "stream",
     "text": [
      "division by zero error occured\n"
     ]
    }
   ],
   "source": [
    "try:\n",
    "\n",
    "    #data = open('fff.txt','r')\n",
    "    a = 5/0\n",
    "    print(a)\n",
    "\n",
    "except IOError as error:\n",
    "\n",
    "    print(f'{error} error occured')\n",
    "\n",
    "except ArithmeticError as error:\n",
    "\n",
    "    print(f'{error} error occured')\n",
    "\n",
    "except:\n",
    "\n",
    "    print('Unknown error')"
   ],
   "metadata": {
    "collapsed": false
   }
  },
  {
   "cell_type": "markdown",
   "source": [],
   "metadata": {
    "collapsed": false
   }
  },
  {
   "cell_type": "markdown",
   "source": [
    "Using Else statemenet\n",
    "\n",
    "it will execute after successfulf execution of try statement"
   ],
   "metadata": {
    "collapsed": false
   }
  },
  {
   "cell_type": "code",
   "execution_count": 2,
   "outputs": [
    {
     "name": "stdout",
     "output_type": "stream",
     "text": [
      "1.0\n",
      "No error occured, code run successfully\n"
     ]
    }
   ],
   "source": [
    "try:\n",
    "\n",
    "    #data = open('fff.txt','r')\n",
    "    a = 5/5\n",
    "    print(a)\n",
    "\n",
    "except IOError as error:\n",
    "\n",
    "    print(f'{error} error occured')\n",
    "\n",
    "except ArithmeticError as error:\n",
    "\n",
    "    print(f'{error} error occured')\n",
    "\n",
    "except:\n",
    "\n",
    "    print('Unknown error')\n",
    "\n",
    "else :\n",
    "\n",
    "    print('No error occured, code run successfully')"
   ],
   "metadata": {
    "collapsed": false
   }
  },
  {
   "cell_type": "markdown",
   "source": [],
   "metadata": {
    "collapsed": false
   }
  },
  {
   "cell_type": "markdown",
   "source": [
    "Finally statement\n",
    "\n",
    "-> it execute in any condition"
   ],
   "metadata": {
    "collapsed": false
   }
  },
  {
   "cell_type": "code",
   "execution_count": 4,
   "outputs": [
    {
     "name": "stdout",
     "output_type": "stream",
     "text": [
      "division by zero error occured\n",
      "I am going to run in any condition\n"
     ]
    }
   ],
   "source": [
    "try:\n",
    "\n",
    "    #data = open('fff.txt','r')\n",
    "    a = 5/0\n",
    "    print(a)\n",
    "\n",
    "except IOError as error:\n",
    "\n",
    "    print(f'{error} error occured')\n",
    "\n",
    "except ArithmeticError as error:\n",
    "\n",
    "    print(f'{error} error occured')\n",
    "\n",
    "except:\n",
    "\n",
    "    print('Unknown error')\n",
    "\n",
    "else :\n",
    "\n",
    "    print('No error occured, code run successfully')\n",
    "\n",
    "finally:\n",
    "    print('I am going to run in any condition')"
   ],
   "metadata": {
    "collapsed": false
   }
  },
  {
   "cell_type": "markdown",
   "source": [],
   "metadata": {
    "collapsed": false
   }
  },
  {
   "cell_type": "markdown",
   "source": [
    "When we are  not aware of exception class\n",
    "\n",
    "we can use 'Exception' Super class for loging any error"
   ],
   "metadata": {
    "collapsed": false
   }
  },
  {
   "cell_type": "markdown",
   "source": [],
   "metadata": {
    "collapsed": false
   }
  },
  {
   "cell_type": "code",
   "execution_count": 6,
   "outputs": [
    {
     "name": "stdout",
     "output_type": "stream",
     "text": [
      "Error : division by zero\n"
     ]
    }
   ],
   "source": [
    "try:\n",
    "    a = 5/0\n",
    "except Exception as ex:\n",
    "    print(f'Error : {ex}')"
   ],
   "metadata": {
    "collapsed": false
   }
  },
  {
   "cell_type": "code",
   "execution_count": null,
   "outputs": [],
   "source": [],
   "metadata": {
    "collapsed": false
   }
  },
  {
   "cell_type": "markdown",
   "source": [
    "using our custom EXCEPTION\n",
    "\n",
    "using : raise Exception"
   ],
   "metadata": {
    "collapsed": false
   }
  },
  {
   "cell_type": "code",
   "execution_count": 18,
   "outputs": [],
   "source": [
    "def custom_dev(inp):\n",
    "\n",
    "    if inp == 5:\n",
    "        #raising the exception when above condition satisfy\n",
    "        raise Exception(\"Can not devide by the same number\")\n",
    "\n",
    "    elif inp%5 == 0 :\n",
    "\n",
    "        raise Exception('Can not devide by the multiple')\n",
    "\n",
    "    else:\n",
    "        #if no condition satisfy we will retun origional value\n",
    "        return inp"
   ],
   "metadata": {
    "collapsed": false
   }
  },
  {
   "cell_type": "code",
   "execution_count": 30,
   "outputs": [
    {
     "name": "stdout",
     "output_type": "stream",
     "text": [
      "Error : Can not devide by the multiple\n"
     ]
    }
   ],
   "source": [
    "try:\n",
    "    c = int(input('Please enter devidor'))\n",
    "\n",
    "    d = custom_dev(c) #using our function to check for error\n",
    "\n",
    "    a = 5/d\n",
    "    print(a)\n",
    "except ArithmeticError as e:\n",
    "\n",
    "    print(f'Error : {e}')\n",
    "\n",
    "except Exception as e:\n",
    "\n",
    "    print(f'Error : {e}')"
   ],
   "metadata": {
    "collapsed": false
   }
  },
  {
   "cell_type": "markdown",
   "source": [],
   "metadata": {
    "collapsed": false
   }
  },
  {
   "cell_type": "markdown",
   "source": [
    "Creating devision by zero error exception handling"
   ],
   "metadata": {
    "collapsed": false
   }
  },
  {
   "cell_type": "code",
   "execution_count": 47,
   "outputs": [],
   "source": [
    "def zero_dev(dev):\n",
    "\n",
    "    if dev==0:\n",
    "\n",
    "        raise Exception('Sorry number can not be devided by 0, The output will be INFINITY')\n",
    "\n",
    "    else :\n",
    "\n",
    "        return dev"
   ],
   "metadata": {
    "collapsed": false
   }
  },
  {
   "cell_type": "code",
   "execution_count": 50,
   "outputs": [
    {
     "name": "stdout",
     "output_type": "stream",
     "text": [
      "Sorry number can not be devided by 0, The output will be INFINITY\n"
     ]
    }
   ],
   "source": [
    "try:\n",
    "\n",
    "    d = int(input(\"Please enter number\"))\n",
    "    a = int(input(\"please neter devidor\"))\n",
    "    b = zero_dev(a)\n",
    "    otput = d/b\n",
    "    print(otput)\n",
    "except Exception as ex:\n",
    "\n",
    "    print(ex)"
   ],
   "metadata": {
    "collapsed": false
   }
  },
  {
   "cell_type": "markdown",
   "source": [],
   "metadata": {
    "collapsed": false
   }
  },
  {
   "cell_type": "markdown",
   "source": [
    "example 2"
   ],
   "metadata": {
    "collapsed": false
   }
  },
  {
   "cell_type": "code",
   "execution_count": 55,
   "outputs": [],
   "source": [
    "def name_check(name):\n",
    "\n",
    "    name = name.lower()\n",
    "\n",
    "    if name == 'hitesh':\n",
    "\n",
    "        raise Exception(f'Sorry you are banned from organization mr/ms {name}')\n",
    "\n",
    "    else :\n",
    "\n",
    "        return name"
   ],
   "metadata": {
    "collapsed": false
   }
  },
  {
   "cell_type": "code",
   "execution_count": 58,
   "outputs": [
    {
     "name": "stdout",
     "output_type": "stream",
     "text": [
      "Welcome to organization mr/ms ddd\n"
     ]
    }
   ],
   "source": [
    "try:\n",
    "    name = input('Please enter your name')\n",
    "\n",
    "    name = name_check(name)\n",
    "\n",
    "    print(f'Welcome to organization mr/ms {name}')\n",
    "\n",
    "except Exception as ex:\n",
    "\n",
    "    print(ex)"
   ],
   "metadata": {
    "collapsed": false
   }
  }
 ],
 "metadata": {
  "kernelspec": {
   "display_name": "Python 3",
   "language": "python",
   "name": "python3"
  },
  "language_info": {
   "codemirror_mode": {
    "name": "ipython",
    "version": 2
   },
   "file_extension": ".py",
   "mimetype": "text/x-python",
   "name": "python",
   "nbconvert_exporter": "python",
   "pygments_lexer": "ipython2",
   "version": "2.7.6"
  }
 },
 "nbformat": 4,
 "nbformat_minor": 0
}
