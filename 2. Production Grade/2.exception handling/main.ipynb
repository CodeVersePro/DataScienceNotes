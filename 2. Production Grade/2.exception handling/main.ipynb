{
 "cells": [
  {
   "cell_type": "markdown",
   "metadata": {
    "collapsed": false
   },
   "source": [
    "two type of error\n",
    "\n",
    "1. synatx : we have to resolve before production\n",
    "2. runtime : use exceptional handling"
   ]
  },
  {
   "cell_type": "markdown",
   "metadata": {
    "collapsed": false
   },
   "source": [
    "exception handling helps in\n",
    "\n",
    "1. resolving error\n",
    "2. seamless run of code beyond error"
   ]
  },
  {
   "cell_type": "markdown",
   "metadata": {
    "collapsed": false
   },
   "source": [
    "Try and Except Use\n"
   ]
  },
  {
   "cell_type": "code",
   "execution_count": 3,
   "metadata": {
    "collapsed": false
   },
   "outputs": [
    {
     "ename": "FileNotFoundError",
     "evalue": "[Errno 2] No such file or directory: 'myfile.txt'",
     "output_type": "error",
     "traceback": [
      "\u001b[1;31m---------------------------------------------------------------------------\u001b[0m",
      "\u001b[1;31mFileNotFoundError\u001b[0m                         Traceback (most recent call last)",
      "Cell \u001b[1;32mIn [3], line 1\u001b[0m\n\u001b[1;32m----> 1\u001b[0m file \u001b[38;5;241m=\u001b[39m \u001b[38;5;28;43mopen\u001b[39;49m\u001b[43m(\u001b[49m\u001b[38;5;124;43m'\u001b[39;49m\u001b[38;5;124;43mmyfile.txt\u001b[39;49m\u001b[38;5;124;43m'\u001b[39;49m\u001b[43m,\u001b[49m\u001b[38;5;124;43m'\u001b[39;49m\u001b[38;5;124;43mr\u001b[39;49m\u001b[38;5;124;43m'\u001b[39;49m\u001b[43m)\u001b[49m\n",
      "File \u001b[1;32m~\\miniconda3\\lib\\site-packages\\IPython\\core\\interactiveshell.py:282\u001b[0m, in \u001b[0;36m_modified_open\u001b[1;34m(file, *args, **kwargs)\u001b[0m\n\u001b[0;32m    275\u001b[0m \u001b[38;5;28;01mif\u001b[39;00m file \u001b[38;5;129;01min\u001b[39;00m {\u001b[38;5;241m0\u001b[39m, \u001b[38;5;241m1\u001b[39m, \u001b[38;5;241m2\u001b[39m}:\n\u001b[0;32m    276\u001b[0m     \u001b[38;5;28;01mraise\u001b[39;00m \u001b[38;5;167;01mValueError\u001b[39;00m(\n\u001b[0;32m    277\u001b[0m         \u001b[38;5;124mf\u001b[39m\u001b[38;5;124m\"\u001b[39m\u001b[38;5;124mIPython won\u001b[39m\u001b[38;5;124m'\u001b[39m\u001b[38;5;124mt let you open fd=\u001b[39m\u001b[38;5;132;01m{\u001b[39;00mfile\u001b[38;5;132;01m}\u001b[39;00m\u001b[38;5;124m by default \u001b[39m\u001b[38;5;124m\"\u001b[39m\n\u001b[0;32m    278\u001b[0m         \u001b[38;5;124m\"\u001b[39m\u001b[38;5;124mas it is likely to crash IPython. If you know what you are doing, \u001b[39m\u001b[38;5;124m\"\u001b[39m\n\u001b[0;32m    279\u001b[0m         \u001b[38;5;124m\"\u001b[39m\u001b[38;5;124myou can use builtins\u001b[39m\u001b[38;5;124m'\u001b[39m\u001b[38;5;124m open.\u001b[39m\u001b[38;5;124m\"\u001b[39m\n\u001b[0;32m    280\u001b[0m     )\n\u001b[1;32m--> 282\u001b[0m \u001b[38;5;28;01mreturn\u001b[39;00m io_open(file, \u001b[38;5;241m*\u001b[39margs, \u001b[38;5;241m*\u001b[39m\u001b[38;5;241m*\u001b[39mkwargs)\n",
      "\u001b[1;31mFileNotFoundError\u001b[0m: [Errno 2] No such file or directory: 'myfile.txt'"
     ]
    }
   ],
   "source": [
    "file = open('myfile.txt','r')"
   ]
  },
  {
   "cell_type": "code",
   "execution_count": 5,
   "metadata": {
    "collapsed": false
   },
   "outputs": [
    {
     "name": "stdout",
     "output_type": "stream",
     "text": [
      "code run successfull\n"
     ]
    }
   ],
   "source": [
    "try:\n",
    "    file = open('myfile.txt','r')\n",
    "except:\n",
    "    print('code run successfull')\n",
    "    #because of error in above code except part run"
   ]
  },
  {
   "cell_type": "markdown",
   "metadata": {
    "collapsed": false
   },
   "source": [
    "devision example"
   ]
  },
  {
   "cell_type": "code",
   "execution_count": 6,
   "metadata": {
    "collapsed": false
   },
   "outputs": [
    {
     "ename": "ZeroDivisionError",
     "evalue": "division by zero",
     "output_type": "error",
     "traceback": [
      "\u001b[1;31m---------------------------------------------------------------------------\u001b[0m",
      "\u001b[1;31mZeroDivisionError\u001b[0m                         Traceback (most recent call last)",
      "Cell \u001b[1;32mIn [6], line 1\u001b[0m\n\u001b[1;32m----> 1\u001b[0m a \u001b[38;5;241m=\u001b[39m \u001b[38;5;241;43m5\u001b[39;49m\u001b[38;5;241;43m/\u001b[39;49m\u001b[38;5;241;43m0\u001b[39;49m\n",
      "\u001b[1;31mZeroDivisionError\u001b[0m: division by zero"
     ]
    }
   ],
   "source": [
    "a = 5/0"
   ]
  },
  {
   "cell_type": "code",
   "execution_count": 1,
   "metadata": {
    "collapsed": false
   },
   "outputs": [
    {
     "name": "stdout",
     "output_type": "stream",
     "text": [
      "INF\n"
     ]
    }
   ],
   "source": [
    "try:\n",
    "\n",
    "    a = 5/0\n",
    "    print(a)\n",
    "    #this will excecute as no error\n",
    "\n",
    "except:\n",
    "\n",
    "    print('INF')"
   ]
  },
  {
   "cell_type": "code",
   "execution_count": null,
   "metadata": {
    "collapsed": false
   },
   "outputs": [],
   "source": []
  },
  {
   "cell_type": "markdown",
   "metadata": {
    "collapsed": false
   },
   "source": [
    "using standard error code\n",
    "\n",
    "1.there are multiple error available in exception handling\n",
    "2. mentioning perticular error in exception will handle only that"
   ]
  },
  {
   "cell_type": "code",
   "execution_count": 4,
   "metadata": {
    "collapsed": false
   },
   "outputs": [
    {
     "name": "stdout",
     "output_type": "stream",
     "text": [
      "ArithmeticError occured\n"
     ]
    }
   ],
   "source": [
    "try:\n",
    "\n",
    "    #data = open('fff.txt','r')\n",
    "    a = 5/0\n",
    "    print(a)\n",
    "\n",
    "except IOError:\n",
    "\n",
    "    print('Please look at input')\n",
    "\n",
    "except ArithmeticError:\n",
    "\n",
    "    print('ArithmeticError occured')\n",
    "\n",
    "except:\n",
    "\n",
    "    print('Unknown error')"
   ]
  },
  {
   "cell_type": "markdown",
   "metadata": {
    "collapsed": false
   },
   "source": []
  },
  {
   "cell_type": "markdown",
   "metadata": {
    "collapsed": false
   },
   "source": [
    "Getting specific error and reflicting in code\n"
   ]
  },
  {
   "cell_type": "code",
   "execution_count": 7,
   "metadata": {
    "collapsed": false
   },
   "outputs": [
    {
     "name": "stdout",
     "output_type": "stream",
     "text": [
      "division by zero error occured\n"
     ]
    }
   ],
   "source": [
    "try:\n",
    "\n",
    "    #data = open('fff.txt','r')\n",
    "    a = 5/0\n",
    "    print(a)\n",
    "\n",
    "except IOError as error:\n",
    "\n",
    "    print(f'{error} error occured')\n",
    "\n",
    "except ArithmeticError as error:\n",
    "\n",
    "    print(f'{error} error occured')\n",
    "\n",
    "except:\n",
    "\n",
    "    print('Unknown error')"
   ]
  },
  {
   "cell_type": "markdown",
   "metadata": {
    "collapsed": false
   },
   "source": []
  },
  {
   "cell_type": "markdown",
   "metadata": {
    "collapsed": false
   },
   "source": [
    "Using Else statemenet\n",
    "\n",
    "it will execute after successfulf execution of try statement"
   ]
  },
  {
   "cell_type": "code",
   "execution_count": 10,
   "metadata": {
    "collapsed": false
   },
   "outputs": [
    {
     "name": "stdout",
     "output_type": "stream",
     "text": [
      "1.6666666666666667\n",
      "No error occured, code run successfully\n"
     ]
    }
   ],
   "source": [
    "try:\n",
    "\n",
    "    #data = open('fff.txt','r')\n",
    "    a = 5/3\n",
    "    print(a)\n",
    "\n",
    "except IOError as error:\n",
    "\n",
    "    print(f'{error} error occured')\n",
    "\n",
    "except ArithmeticError as error:\n",
    "\n",
    "    print(f'{error} error occured')\n",
    "\n",
    "except:\n",
    "\n",
    "    print('Unknown error')\n",
    "\n",
    "else :\n",
    "\n",
    "    print('No error occured, code run successfully')"
   ]
  },
  {
   "cell_type": "markdown",
   "metadata": {
    "collapsed": false
   },
   "source": []
  },
  {
   "cell_type": "markdown",
   "metadata": {
    "collapsed": false
   },
   "source": [
    "Finally statement\n",
    "\n",
    "-> it execute in any condition"
   ]
  },
  {
   "cell_type": "code",
   "execution_count": 12,
   "metadata": {
    "collapsed": false
   },
   "outputs": [
    {
     "name": "stdout",
     "output_type": "stream",
     "text": [
      "1.25\n",
      "No error occured, code run successfully\n",
      "I am going to run in any condition\n"
     ]
    }
   ],
   "source": [
    "try:\n",
    "\n",
    "    #data = open('fff.txt','r')\n",
    "    a = 5/4\n",
    "    print(a)\n",
    "\n",
    "except IOError as error:\n",
    "\n",
    "    print(f'{error} error occured')\n",
    "\n",
    "except ArithmeticError as error:\n",
    "\n",
    "    print(f'{error} error occured')\n",
    "\n",
    "except:\n",
    "\n",
    "    print('Unknown error')\n",
    "\n",
    "else :\n",
    "\n",
    "    print('No error occured, code run successfully')\n",
    "\n",
    "finally:\n",
    "    print('I am going to run in any condition')"
   ]
  },
  {
   "cell_type": "markdown",
   "metadata": {
    "collapsed": false
   },
   "source": []
  },
  {
   "cell_type": "markdown",
   "metadata": {
    "collapsed": false
   },
   "source": [
    "When we are  not aware of exception class\n",
    "\n",
    "we can use 'Exception' Super class for loging any error"
   ]
  },
  {
   "cell_type": "markdown",
   "metadata": {
    "collapsed": false
   },
   "source": []
  },
  {
   "cell_type": "code",
   "execution_count": 6,
   "metadata": {
    "collapsed": false
   },
   "outputs": [
    {
     "name": "stdout",
     "output_type": "stream",
     "text": [
      "Error : division by zero\n"
     ]
    }
   ],
   "source": [
    "try:\n",
    "    a = 5/0\n",
    "except Exception as ex:\n",
    "    print(f'Error : {ex}')"
   ]
  },
  {
   "cell_type": "code",
   "execution_count": null,
   "metadata": {
    "collapsed": false
   },
   "outputs": [],
   "source": []
  },
  {
   "cell_type": "markdown",
   "metadata": {
    "collapsed": false
   },
   "source": [
    "using our custom EXCEPTION\n",
    "\n",
    "using : raise Exception"
   ]
  },
  {
   "cell_type": "code",
   "execution_count": 23,
   "metadata": {
    "collapsed": false
   },
   "outputs": [],
   "source": [
    "def custom_dev(inp):\n",
    "\n",
    "    if inp == 5:\n",
    "        #raising the exception when above condition satisfy\n",
    "        raise Exception(\"Can not devide by the same number\")\n",
    "        \n",
    "    elif inp == 0:\n",
    "\n",
    "        raise Exception('Can not devide by Zero')\n",
    "\n",
    "    elif inp%5 == 0 :\n",
    "\n",
    "        raise Exception('Can not devide by the multiple')\n",
    "\n",
    "    \n",
    "\n",
    "    else:\n",
    "        #if no condition satisfy we will retun origional value\n",
    "        return inp"
   ]
  },
  {
   "cell_type": "code",
   "execution_count": 24,
   "metadata": {
    "collapsed": false
   },
   "outputs": [
    {
     "name": "stdout",
     "output_type": "stream",
     "text": [
      "Error : Can not devide by Zero\n"
     ]
    }
   ],
   "source": [
    "try:\n",
    "    c = int(input('Please enter devidor'))\n",
    "\n",
    "    d = custom_dev(c) #using our function to check for error\n",
    "\n",
    "    a = 5/d\n",
    "    print(a)\n",
    "except ArithmeticError as e:\n",
    "\n",
    "    print(f'Error : {e}')\n",
    "\n",
    "except Exception as e:\n",
    "\n",
    "    print(f'Error : {e}')"
   ]
  },
  {
   "cell_type": "markdown",
   "metadata": {
    "collapsed": false
   },
   "source": []
  },
  {
   "cell_type": "markdown",
   "metadata": {
    "collapsed": false
   },
   "source": [
    "Creating devision by zero error exception handling"
   ]
  },
  {
   "cell_type": "code",
   "execution_count": 26,
   "metadata": {
    "collapsed": false
   },
   "outputs": [],
   "source": [
    "def zero_dev(dev):\n",
    "\n",
    "    if dev==0:\n",
    "\n",
    "        raise Exception('Sorry number can not be devided by 0, The output will be INFINITY')\n",
    "\n",
    "    else :\n",
    "        \n",
    "\n",
    "        return dev"
   ]
  },
  {
   "cell_type": "code",
   "execution_count": 27,
   "metadata": {
    "collapsed": false
   },
   "outputs": [
    {
     "name": "stdout",
     "output_type": "stream",
     "text": [
      "Sorry number can not be devided by 0, The output will be INFINITY\n"
     ]
    }
   ],
   "source": [
    "try:\n",
    "\n",
    "    d = int(input(\"Please enter number\"))\n",
    "    a = int(input(\"please neter devidor\"))\n",
    "    b = zero_dev(a)\n",
    "    otput = d/b\n",
    "    print(otput)\n",
    "except Exception as ex:\n",
    "\n",
    "    print(ex)"
   ]
  },
  {
   "cell_type": "markdown",
   "metadata": {
    "collapsed": false
   },
   "source": []
  },
  {
   "cell_type": "markdown",
   "metadata": {
    "collapsed": false
   },
   "source": [
    "example 2"
   ]
  },
  {
   "cell_type": "code",
   "execution_count": 29,
   "metadata": {
    "collapsed": false
   },
   "outputs": [],
   "source": [
    "def name_check(name):\n",
    "\n",
    "    name = name.lower()\n",
    "\n",
    "    if name == 'hitesh':\n",
    "\n",
    "        raise Exception(f'Sorry you are banned from organization mr/ms {name}')\n",
    "\n",
    "    else :\n",
    "\n",
    "        return name"
   ]
  },
  {
   "cell_type": "code",
   "execution_count": 30,
   "metadata": {
    "collapsed": false
   },
   "outputs": [
    {
     "name": "stdout",
     "output_type": "stream",
     "text": [
      "Sorry you are banned from organization mr/ms hitesh\n"
     ]
    }
   ],
   "source": [
    "try:\n",
    "    name = input('Please enter your name')\n",
    "\n",
    "    name = name_check(name)\n",
    "\n",
    "    print(f'Welcome to organization mr/ms {name}')\n",
    "\n",
    "except Exception as ex:\n",
    "\n",
    "    print(ex)"
   ]
  }
 ],
 "metadata": {
  "kernelspec": {
   "display_name": "Python 3.9.12 ('base')",
   "language": "python",
   "name": "python3"
  },
  "language_info": {
   "codemirror_mode": {
    "name": "ipython",
    "version": 3
   },
   "file_extension": ".py",
   "mimetype": "text/x-python",
   "name": "python",
   "nbconvert_exporter": "python",
   "pygments_lexer": "ipython3",
   "version": "3.9.12"
  },
  "vscode": {
   "interpreter": {
    "hash": "d92b780ac215699fe294cd56770982570c09e9149ed812f4b38cb003e52abf06"
   }
  }
 },
 "nbformat": 4,
 "nbformat_minor": 0
}
