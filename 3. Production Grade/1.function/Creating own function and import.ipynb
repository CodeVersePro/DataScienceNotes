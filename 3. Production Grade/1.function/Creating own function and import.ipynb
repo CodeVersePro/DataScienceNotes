{
 "cells": [
  {
   "cell_type": "markdown",
   "id": "8bd3fded",
   "metadata": {},
   "source": [
    "### importing our own module"
   ]
  },
  {
   "cell_type": "code",
   "execution_count": 9,
   "id": "1f8c4826",
   "metadata": {},
   "outputs": [
    {
     "ename": "ModuleNotFoundError",
     "evalue": "No module named 'myfunc'",
     "output_type": "error",
     "traceback": [
      "\u001b[1;31m---------------------------------------------------------------------------\u001b[0m",
      "\u001b[1;31mModuleNotFoundError\u001b[0m                       Traceback (most recent call last)",
      "Cell \u001b[1;32mIn [9], line 2\u001b[0m\n\u001b[0;32m      1\u001b[0m \u001b[39mimport\u001b[39;00m \u001b[39mos\u001b[39;00m\n\u001b[1;32m----> 2\u001b[0m \u001b[39mimport\u001b[39;00m \u001b[39mmyfunc\u001b[39;00m\n",
      "\u001b[1;31mModuleNotFoundError\u001b[0m: No module named 'myfunc'"
     ]
    }
   ],
   "source": [
    "import os\n",
    "import myfunc"
   ]
  },
  {
   "cell_type": "code",
   "execution_count": 6,
   "id": "be6aacaf",
   "metadata": {},
   "outputs": [
    {
     "data": {
      "text/plain": [
       "'C:\\\\Program Files\\\\Microsoft VS Code'"
      ]
     },
     "execution_count": 6,
     "metadata": {},
     "output_type": "execute_result"
    }
   ],
   "source": [
    "os.getcwd()"
   ]
  },
  {
   "cell_type": "code",
   "execution_count": 2,
   "id": "0749d45c",
   "metadata": {},
   "outputs": [
    {
     "data": {
      "text/plain": [
       "9"
      ]
     },
     "execution_count": 2,
     "metadata": {},
     "output_type": "execute_result"
    }
   ],
   "source": [
    "myfunc.add(4,5)"
   ]
  },
  {
   "cell_type": "code",
   "execution_count": 3,
   "id": "676fd309",
   "metadata": {},
   "outputs": [
    {
     "data": {
      "text/plain": [
       "81"
      ]
     },
     "execution_count": 3,
     "metadata": {},
     "output_type": "execute_result"
    }
   ],
   "source": [
    "myfunc.power(3,4)"
   ]
  },
  {
   "cell_type": "markdown",
   "id": "1939c4d2",
   "metadata": {},
   "source": [
    "### importing specific function from module"
   ]
  },
  {
   "cell_type": "code",
   "execution_count": 4,
   "id": "19862086",
   "metadata": {},
   "outputs": [],
   "source": [
    "from myfunc import mult"
   ]
  },
  {
   "cell_type": "code",
   "execution_count": 5,
   "id": "aeb4aac7",
   "metadata": {},
   "outputs": [
    {
     "data": {
      "text/plain": [
       "48"
      ]
     },
     "execution_count": 5,
     "metadata": {},
     "output_type": "execute_result"
    }
   ],
   "source": [
    "mult(6,8)"
   ]
  },
  {
   "cell_type": "code",
   "execution_count": null,
   "id": "294c15d6",
   "metadata": {},
   "outputs": [],
   "source": []
  },
  {
   "cell_type": "markdown",
   "id": "217d5684",
   "metadata": {},
   "source": [
    "### importing module from subfolder"
   ]
  },
  {
   "cell_type": "code",
   "execution_count": null,
   "id": "a7d28c3b",
   "metadata": {},
   "outputs": [],
   "source": []
  },
  {
   "cell_type": "code",
   "execution_count": 8,
   "id": "fb0f850d",
   "metadata": {},
   "outputs": [],
   "source": [
    "import funcfold.mod1 as mod1"
   ]
  },
  {
   "cell_type": "code",
   "execution_count": 10,
   "id": "5874e9e9",
   "metadata": {},
   "outputs": [
    {
     "data": {
      "text/plain": [
       "'ok'"
      ]
     },
     "execution_count": 10,
     "metadata": {},
     "output_type": "execute_result"
    }
   ],
   "source": [
    "mod1.func1()"
   ]
  },
  {
   "cell_type": "code",
   "execution_count": null,
   "id": "c99b1fab",
   "metadata": {},
   "outputs": [],
   "source": []
  },
  {
   "cell_type": "code",
   "execution_count": 11,
   "id": "6039bb9c",
   "metadata": {},
   "outputs": [],
   "source": [
    "from funcfold import mod1"
   ]
  },
  {
   "cell_type": "code",
   "execution_count": 12,
   "id": "333f601a",
   "metadata": {},
   "outputs": [],
   "source": [
    "from funcfold.mod1 import func2"
   ]
  },
  {
   "cell_type": "code",
   "execution_count": 13,
   "id": "5b8d3a7a",
   "metadata": {},
   "outputs": [
    {
     "data": {
      "text/plain": [
       "'ok'"
      ]
     },
     "execution_count": 13,
     "metadata": {},
     "output_type": "execute_result"
    }
   ],
   "source": [
    "func2()"
   ]
  }
 ],
 "metadata": {
  "kernelspec": {
   "display_name": "Python 3.9.12 ('base')",
   "language": "python",
   "name": "python3"
  },
  "language_info": {
   "codemirror_mode": {
    "name": "ipython",
    "version": 3
   },
   "file_extension": ".py",
   "mimetype": "text/x-python",
   "name": "python",
   "nbconvert_exporter": "python",
   "pygments_lexer": "ipython3",
   "version": "3.9.12"
  },
  "vscode": {
   "interpreter": {
    "hash": "d92b780ac215699fe294cd56770982570c09e9149ed812f4b38cb003e52abf06"
   }
  }
 },
 "nbformat": 4,
 "nbformat_minor": 5
}
