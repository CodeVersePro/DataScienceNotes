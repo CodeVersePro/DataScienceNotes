{
 "cells": [
  {
   "cell_type": "markdown",
   "metadata": {},
   "source": [
    "##### checking odd even using modulo"
   ]
  },
  {
   "cell_type": "code",
   "execution_count": 17,
   "metadata": {},
   "outputs": [],
   "source": [
    "# function for integer checking \n",
    "\n",
    "def number_check(number):\n",
    "\n",
    "    if type(number) != int:\n",
    "\n",
    "        raise Exception('Please enter valid integer')\n",
    "\n",
    "    elif type(number) == str:\n",
    "\n",
    "        raise Exception('Please enter integer not string')\n",
    "\n",
    "    else:\n",
    "\n",
    "        return number"
   ]
  },
  {
   "cell_type": "code",
   "execution_count": 23,
   "metadata": {},
   "outputs": [],
   "source": [
    "# function for checking odd even\n",
    "\n",
    "def odd_even(number):\n",
    "\n",
    "    if number%2 == 0:\n",
    "\n",
    "        print('Given number is even')\n",
    "\n",
    "    else:\n",
    "\n",
    "        print('Given number is odd')\n"
   ]
  },
  {
   "cell_type": "code",
   "execution_count": 25,
   "metadata": {},
   "outputs": [
    {
     "name": "stdout",
     "output_type": "stream",
     "text": [
      "ERROR : invalid literal for int() with base 10: \"'dddd'\"\n"
     ]
    }
   ],
   "source": [
    "try:\n",
    "\n",
    "    number = number_check(int(input('Please enter integer')))\n",
    "\n",
    "    \n",
    "\n",
    "except NameError:\n",
    "\n",
    "    print('Please enter valid variable as input')\n",
    "\n",
    "except Exception as ex:\n",
    "\n",
    "    print(f'ERROR : {ex}')\n",
    "\n",
    "else:\n",
    "\n",
    "    odd_even(number)"
   ]
  }
 ],
 "metadata": {
  "kernelspec": {
   "display_name": "Python 3.10.4 64-bit",
   "language": "python",
   "name": "python3"
  },
  "language_info": {
   "codemirror_mode": {
    "name": "ipython",
    "version": 3
   },
   "file_extension": ".py",
   "mimetype": "text/x-python",
   "name": "python",
   "nbconvert_exporter": "python",
   "pygments_lexer": "ipython3",
   "version": "3.10.6"
  },
  "orig_nbformat": 4,
  "vscode": {
   "interpreter": {
    "hash": "916dbcbb3f70747c44a77c7bcd40155683ae19c65e1c03b4aa3499c5328201f1"
   }
  }
 },
 "nbformat": 4,
 "nbformat_minor": 2
}
