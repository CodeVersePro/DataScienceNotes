{
 "cells": [
  {
   "cell_type": "markdown",
   "id": "ba21cf5f",
   "metadata": {},
   "source": [
    "### learning some basic about string"
   ]
  },
  {
   "cell_type": "markdown",
   "id": "26992c84",
   "metadata": {},
   "source": [
    "how to use single quote and souble quotes"
   ]
  },
  {
   "cell_type": "code",
   "execution_count": 3,
   "id": "11347da1",
   "metadata": {},
   "outputs": [
    {
     "name": "stdout",
     "output_type": "stream",
     "text": [
      "My name is \"hitesh\"\n"
     ]
    }
   ],
   "source": [
    "string1 = 'My name is \"hitesh\"' # we are using single quote and double quotes inside for quotation\n",
    "print(string1)"
   ]
  },
  {
   "cell_type": "code",
   "execution_count": 5,
   "id": "45b8dc1d",
   "metadata": {},
   "outputs": [
    {
     "name": "stdout",
     "output_type": "stream",
     "text": [
      "My name is hitesh solanki, this is mayur's watch \n"
     ]
    }
   ],
   "source": [
    "string2 = \"My name is hitesh solanki, this is mayur's watch \" # we used single quote inside double quote\n",
    "print(string2)"
   ]
  },
  {
   "cell_type": "markdown",
   "id": "22a8e5bc",
   "metadata": {},
   "source": [
    "### Basic of the string slicing\n",
    "\n",
    "1. normal slicing\n",
    "2. steps\n",
    "3. reverse slicing\n"
   ]
  },
  {
   "cell_type": "code",
   "execution_count": null,
   "id": "d7a70d10",
   "metadata": {},
   "outputs": [],
   "source": [
    "st = 'my name is hitesh'"
   ]
  },
  {
   "cell_type": "code",
   "execution_count": null,
   "id": "4e2e6968",
   "metadata": {},
   "outputs": [
    {
     "data": {
      "text/plain": [
       "'y'"
      ]
     },
     "metadata": {},
     "output_type": "display_data"
    }
   ],
   "source": [
    "st[1]"
   ]
  },
  {
   "cell_type": "code",
   "execution_count": null,
   "id": "e2509a29",
   "metadata": {},
   "outputs": [
    {
     "data": {
      "text/plain": [
       "'m'"
      ]
     },
     "metadata": {},
     "output_type": "display_data"
    }
   ],
   "source": [
    "st[0]"
   ]
  },
  {
   "cell_type": "code",
   "execution_count": null,
   "id": "b1de6d3d",
   "metadata": {},
   "outputs": [
    {
     "data": {
      "text/plain": [
       "'my name is hitesh'"
      ]
     },
     "metadata": {},
     "output_type": "display_data"
    }
   ],
   "source": [
    "st[:]"
   ]
  },
  {
   "cell_type": "code",
   "execution_count": null,
   "id": "8b0a47e1",
   "metadata": {},
   "outputs": [
    {
     "data": {
      "text/plain": [
       "'my na'"
      ]
     },
     "metadata": {},
     "output_type": "display_data"
    }
   ],
   "source": [
    "st[0:5]"
   ]
  },
  {
   "cell_type": "code",
   "execution_count": null,
   "id": "e7e3521c",
   "metadata": {},
   "outputs": [
    {
     "data": {
      "text/plain": [
       "'es'"
      ]
     },
     "metadata": {},
     "output_type": "display_data"
    }
   ],
   "source": [
    "st[-3:-1]"
   ]
  },
  {
   "cell_type": "code",
   "execution_count": null,
   "id": "39bac28a",
   "metadata": {},
   "outputs": [
    {
     "data": {
      "text/plain": [
       "'itesh'"
      ]
     },
     "metadata": {},
     "output_type": "display_data"
    }
   ],
   "source": [
    "st[-5:]"
   ]
  },
  {
   "cell_type": "markdown",
   "id": "a5d7a821",
   "metadata": {},
   "source": [
    "##### steps"
   ]
  },
  {
   "cell_type": "code",
   "execution_count": null,
   "id": "a39129f8",
   "metadata": {},
   "outputs": [
    {
     "data": {
      "text/plain": [
       "'my name is hitesh'"
      ]
     },
     "metadata": {},
     "output_type": "display_data"
    }
   ],
   "source": [
    "st[::1]"
   ]
  },
  {
   "cell_type": "code",
   "execution_count": null,
   "id": "c8e2269d",
   "metadata": {},
   "outputs": [
    {
     "data": {
      "text/plain": [
       "'m aei ieh'"
      ]
     },
     "metadata": {},
     "output_type": "display_data"
    }
   ],
   "source": [
    "st[::2]"
   ]
  },
  {
   "cell_type": "markdown",
   "id": "2e1353e8",
   "metadata": {},
   "source": [
    "##### reverse slicing\n"
   ]
  },
  {
   "cell_type": "code",
   "execution_count": null,
   "id": "75023fb6",
   "metadata": {},
   "outputs": [
    {
     "data": {
      "text/plain": [
       "'hsetih si eman ym'"
      ]
     },
     "metadata": {},
     "output_type": "display_data"
    }
   ],
   "source": [
    "st[::-1]"
   ]
  },
  {
   "cell_type": "code",
   "execution_count": null,
   "id": "5f6ef295",
   "metadata": {},
   "outputs": [
    {
     "data": {
      "text/plain": [
       "''"
      ]
     },
     "metadata": {},
     "output_type": "display_data"
    }
   ],
   "source": [
    "st[-1:-5]"
   ]
  },
  {
   "cell_type": "code",
   "execution_count": null,
   "id": "1d93a62f",
   "metadata": {},
   "outputs": [
    {
     "data": {
      "text/plain": [
       "'hset'"
      ]
     },
     "metadata": {},
     "output_type": "display_data"
    }
   ],
   "source": [
    "st[-1:-5:-1]"
   ]
  },
  {
   "cell_type": "code",
   "execution_count": null,
   "id": "7ea16f38",
   "metadata": {},
   "outputs": [],
   "source": []
  },
  {
   "cell_type": "markdown",
   "id": "14031d80",
   "metadata": {},
   "source": [
    "### iterating over string using for loop"
   ]
  },
  {
   "cell_type": "code",
   "execution_count": 1,
   "id": "4ec7f03a",
   "metadata": {},
   "outputs": [],
   "source": [
    "string_1 = \"my name is hitesh singh solanki\""
   ]
  },
  {
   "cell_type": "code",
   "execution_count": null,
   "id": "b31c6fc9",
   "metadata": {},
   "outputs": [],
   "source": [
    "for letter in string_1:\n",
    "\n",
    "    if letter == ' ':\n",
    "\n",
    "        pass\n",
    "\n",
    "    else:\n",
    "\n",
    "        print(letter)"
   ]
  },
  {
   "cell_type": "code",
   "execution_count": null,
   "id": "f1ce8e9c",
   "metadata": {},
   "outputs": [],
   "source": [
    "for letter in string_1:\n",
    "\n",
    "    if letter == ' ':\n",
    "\n",
    "        pass\n",
    "\n",
    "    else:\n",
    "\n",
    "        print(letter)\n",
    "\n",
    "else:\n",
    "\n",
    "    print('Loop is over')"
   ]
  },
  {
   "cell_type": "code",
   "execution_count": 11,
   "id": "46f63a0e",
   "metadata": {},
   "outputs": [
    {
     "name": "stdout",
     "output_type": "stream",
     "text": [
      "m\n",
      "y\n",
      "n\n",
      "a\n",
      "m\n",
      "e\n",
      "i\n",
      "s\n",
      "We encounter the letter \"H\" so we can not move forward\n"
     ]
    }
   ],
   "source": [
    "# using break statement\n",
    "\n",
    "for letter in string_1:\n",
    "\n",
    "    if letter == 'h':\n",
    "\n",
    "        print('We encounter the letter \"H\" so we can not move forward')\n",
    "        break\n",
    "\n",
    "    elif letter == ' ':\n",
    "\n",
    "        pass\n",
    "\n",
    "    else:\n",
    "\n",
    "        print(letter)\n",
    "\n",
    "else:\n",
    "\n",
    "    print('The loop is over')"
   ]
  },
  {
   "cell_type": "markdown",
   "id": "05fe67e6",
   "metadata": {},
   "source": [
    "### using while lopp to iterate over string"
   ]
  },
  {
   "cell_type": "code",
   "execution_count": null,
   "id": "b150f5a9",
   "metadata": {},
   "outputs": [],
   "source": [
    "count = 0\n",
    "\n",
    "while count < len(string_1):\n",
    "\n",
    "    print(string_1[count])\n",
    "    count += 1"
   ]
  },
  {
   "cell_type": "code",
   "execution_count": null,
   "id": "bbc6b138",
   "metadata": {},
   "outputs": [],
   "source": [
    "count = 0\n",
    "\n",
    "while count < len(string_1):\n",
    "\n",
    "    if string_1[count] == ' ':\n",
    "        count += 1\n",
    "        pass\n",
    "    else:\n",
    "        print(string_1[count])\n",
    "        count += 1\n",
    "\n",
    "else:\n",
    "\n",
    "    print('the loop is over')"
   ]
  }
 ],
 "metadata": {
  "kernelspec": {
   "display_name": "Python 3.9.12 ('base')",
   "language": "python",
   "name": "python3"
  },
  "language_info": {
   "codemirror_mode": {
    "name": "ipython",
    "version": 3
   },
   "file_extension": ".py",
   "mimetype": "text/x-python",
   "name": "python",
   "nbconvert_exporter": "python",
   "pygments_lexer": "ipython3",
   "version": "3.9.12"
  },
  "vscode": {
   "interpreter": {
    "hash": "d92b780ac215699fe294cd56770982570c09e9149ed812f4b38cb003e52abf06"
   }
  }
 },
 "nbformat": 4,
 "nbformat_minor": 5
}
