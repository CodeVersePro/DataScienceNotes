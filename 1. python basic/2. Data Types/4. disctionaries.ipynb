{
 "cells": [
  {
   "cell_type": "markdown",
   "metadata": {},
   "source": [
    "#### disctionaries\n",
    "\n",
    "1. disctionaries can hold multiple data tyae #samle in list\n",
    "2. accessible using key and value pair #access using index\n",
    "3. are mutable # same as list\n",
    "4. disctionaries are not sorted\n"
   ]
  },
  {
   "cell_type": "code",
   "execution_count": 1,
   "metadata": {},
   "outputs": [
    {
     "data": {
      "text/plain": [
       "dict"
      ]
     },
     "execution_count": 1,
     "metadata": {},
     "output_type": "execute_result"
    }
   ],
   "source": [
    "# initalising dictionary\n",
    "\n",
    "dict1 = {}\n",
    "\n",
    "type(dict1)"
   ]
  },
  {
   "cell_type": "code",
   "execution_count": 3,
   "metadata": {},
   "outputs": [
    {
     "data": {
      "text/plain": [
       "dict"
      ]
     },
     "execution_count": 3,
     "metadata": {},
     "output_type": "execute_result"
    }
   ],
   "source": [
    "dict1 = dict()\n",
    "type(dict1)"
   ]
  },
  {
   "cell_type": "code",
   "execution_count": 4,
   "metadata": {},
   "outputs": [],
   "source": [
    "## creating family dictionary \n",
    "\n",
    "family = {'hitesh' : 23, 'gajuji' : 50, 'manjulaben' : 49}"
   ]
  },
  {
   "cell_type": "code",
   "execution_count": 5,
   "metadata": {},
   "outputs": [
    {
     "data": {
      "text/plain": [
       "{'hitesh': 23, 'gajuji': 50, 'manjulaben': 49}"
      ]
     },
     "execution_count": 5,
     "metadata": {},
     "output_type": "execute_result"
    }
   ],
   "source": [
    "family"
   ]
  },
  {
   "cell_type": "code",
   "execution_count": 6,
   "metadata": {},
   "outputs": [
    {
     "data": {
      "text/plain": [
       "23"
      ]
     },
     "execution_count": 6,
     "metadata": {},
     "output_type": "execute_result"
    }
   ],
   "source": [
    "## accessing dictionary using keys\n",
    "\n",
    "family['hitesh']"
   ]
  },
  {
   "cell_type": "code",
   "execution_count": 8,
   "metadata": {},
   "outputs": [
    {
     "name": "stdout",
     "output_type": "stream",
     "text": [
      "hitesh\n",
      "gajuji\n",
      "manjulaben\n"
     ]
    }
   ],
   "source": [
    "### how to iterate over dictionaries\n",
    "\n",
    "#iteriting over keys\n",
    "\n",
    "for elem in family.keys():\n",
    "\n",
    "    print(elem)"
   ]
  },
  {
   "cell_type": "code",
   "execution_count": 9,
   "metadata": {},
   "outputs": [
    {
     "name": "stdout",
     "output_type": "stream",
     "text": [
      "23\n",
      "50\n",
      "49\n"
     ]
    }
   ],
   "source": [
    "# iterating over values\n",
    "\n",
    "for elem in family.values():\n",
    "\n",
    "    print(elem)"
   ]
  },
  {
   "cell_type": "code",
   "execution_count": 12,
   "metadata": {},
   "outputs": [
    {
     "name": "stdout",
     "output_type": "stream",
     "text": [
      "hitesh : 23\n",
      "gajuji : 50\n",
      "manjulaben : 49\n"
     ]
    }
   ],
   "source": [
    "# iterating over both\n",
    "\n",
    "for key,value in family.items():\n",
    "\n",
    "    print(f'{key} : {value}')"
   ]
  },
  {
   "cell_type": "markdown",
   "metadata": {},
   "source": [
    "##### genrally dictioanries are not ordered, but we can preserve the order of key by using ordered dictionary"
   ]
  },
  {
   "cell_type": "code",
   "execution_count": 13,
   "metadata": {},
   "outputs": [],
   "source": [
    "from collections import OrderedDict as od"
   ]
  },
  {
   "cell_type": "code",
   "execution_count": 17,
   "metadata": {},
   "outputs": [],
   "source": [
    "my_dict = od()\n",
    "\n",
    "my_dict['hitesh'] = 23\n",
    "my_dict['gajuji'] = 51\n",
    "my_dict['manjulabne'] = 49"
   ]
  },
  {
   "cell_type": "code",
   "execution_count": 16,
   "metadata": {},
   "outputs": [
    {
     "data": {
      "text/plain": [
       "OrderedDict([('hitesh', 23), ('gajuji', 51), ('manjulabne', 49)])"
      ]
     },
     "execution_count": 16,
     "metadata": {},
     "output_type": "execute_result"
    }
   ],
   "source": [
    "my_dict"
   ]
  },
  {
   "cell_type": "code",
   "execution_count": 19,
   "metadata": {},
   "outputs": [
    {
     "name": "stdout",
     "output_type": "stream",
     "text": [
      "hitesh : 23\n",
      "gajuji : 51\n",
      "manjulabne : 49\n"
     ]
    }
   ],
   "source": [
    "for ekey,value in my_dict.items():\n",
    "\n",
    "    print(f'{ekey} : {value}')"
   ]
  },
  {
   "cell_type": "markdown",
   "metadata": {},
   "source": [
    "#### understanding nested dictionaries\n",
    "\n"
   ]
  },
  {
   "cell_type": "code",
   "execution_count": 21,
   "metadata": {},
   "outputs": [],
   "source": [
    "nested_dict = {\n",
    "    \"Peter\": {\"age\": 10, \"address\": \"Lisbon\"},\n",
    "    \"Isabel\": {\"age\": 11, \"address\": \"Sesimbra\"},\n",
    "    \"Anna\": {\"age\": 9, \"address\": \"Lisbon\"},}"
   ]
  },
  {
   "cell_type": "code",
   "execution_count": 22,
   "metadata": {},
   "outputs": [
    {
     "data": {
      "text/plain": [
       "{'Peter': {'age': 10, 'address': 'Lisbon'},\n",
       " 'Isabel': {'age': 11, 'address': 'Sesimbra'},\n",
       " 'Anna': {'age': 9, 'address': 'Lisbon'}}"
      ]
     },
     "execution_count": 22,
     "metadata": {},
     "output_type": "execute_result"
    }
   ],
   "source": [
    "nested_dict"
   ]
  },
  {
   "cell_type": "code",
   "execution_count": 23,
   "metadata": {},
   "outputs": [
    {
     "data": {
      "text/plain": [
       "{'age': 10, 'address': 'Lisbon'}"
      ]
     },
     "execution_count": 23,
     "metadata": {},
     "output_type": "execute_result"
    }
   ],
   "source": [
    "# accessing element of nested dict\n",
    "\n",
    "nested_dict['Peter']"
   ]
  },
  {
   "cell_type": "code",
   "execution_count": 24,
   "metadata": {},
   "outputs": [
    {
     "data": {
      "text/plain": [
       "'Lisbon'"
      ]
     },
     "execution_count": 24,
     "metadata": {},
     "output_type": "execute_result"
    }
   ],
   "source": [
    "#accessing inside nested\n",
    "\n",
    "nested_dict['Peter']['address']"
   ]
  },
  {
   "cell_type": "code",
   "execution_count": 27,
   "metadata": {},
   "outputs": [
    {
     "name": "stdout",
     "output_type": "stream",
     "text": [
      "Peter\"s age is 10\n",
      "Peter\"s address is Lisbon\n",
      "Isabel\"s age is 11\n",
      "Isabel\"s address is Sesimbra\n",
      "Anna\"s age is 9\n",
      "Anna\"s address is Lisbon\n"
     ]
    }
   ],
   "source": [
    "## can we itereate over nested disctioary\n",
    "\n",
    "for key3 in nested_dict.keys():\n",
    "\n",
    "    for key2,value2 in nested_dict[key3].items():\n",
    "\n",
    "        print(f'{key3}\"s {key2} is {value2}')"
   ]
  },
  {
   "cell_type": "code",
   "execution_count": null,
   "metadata": {},
   "outputs": [],
   "source": []
  },
  {
   "cell_type": "code",
   "execution_count": 28,
   "metadata": {},
   "outputs": [
    {
     "data": {
      "text/plain": [
       "3"
      ]
     },
     "execution_count": 28,
     "metadata": {},
     "output_type": "execute_result"
    }
   ],
   "source": [
    "# calculating length of dictionary\n",
    "\n",
    "len(my_dict) # simply we can calculate using len function"
   ]
  },
  {
   "cell_type": "code",
   "execution_count": 29,
   "metadata": {},
   "outputs": [],
   "source": [
    "# calculating len of dictionary wihtout len\n",
    "\n",
    "def dict_len(dictin):\n",
    "\n",
    "    sum = 0\n",
    "\n",
    "    for keys in dictin.keys():\n",
    "\n",
    "        sum += 1\n",
    "\n",
    "    return print(sum)"
   ]
  },
  {
   "cell_type": "code",
   "execution_count": 31,
   "metadata": {},
   "outputs": [
    {
     "name": "stdout",
     "output_type": "stream",
     "text": [
      "3\n"
     ]
    }
   ],
   "source": [
    "dict_len(nested_dict)"
   ]
  },
  {
   "cell_type": "code",
   "execution_count": 34,
   "metadata": {},
   "outputs": [
    {
     "data": {
      "text/plain": [
       "{'hitesh': 23, 'gajuji': 51, 'manjulabne': 49}"
      ]
     },
     "execution_count": 34,
     "metadata": {},
     "output_type": "execute_result"
    }
   ],
   "source": [
    "## function calculating avg of ages\n",
    "\n",
    "my_dict = dict(my_dict)\n",
    "my_dict"
   ]
  },
  {
   "cell_type": "code",
   "execution_count": 35,
   "metadata": {},
   "outputs": [],
   "source": [
    "def averageage(dictin):\n",
    "\n",
    "    sum = 0\n",
    "\n",
    "    for age in dictin.values():\n",
    "\n",
    "        sum += age\n",
    "\n",
    "    avg = sum / len(my_dict)\n",
    "\n",
    "    print(avg)"
   ]
  },
  {
   "cell_type": "code",
   "execution_count": 36,
   "metadata": {},
   "outputs": [
    {
     "name": "stdout",
     "output_type": "stream",
     "text": [
      "41.0\n"
     ]
    }
   ],
   "source": [
    "averageage(my_dict)"
   ]
  },
  {
   "cell_type": "code",
   "execution_count": 37,
   "metadata": {},
   "outputs": [],
   "source": [
    "# making function to find oldest member \n",
    "\n",
    "def oldes(dictin):\n",
    "\n",
    "    name = list(dictin.keys())\n",
    "    age = list(dictin.values())\n",
    "\n",
    "    oldest = max(age)\n",
    "\n",
    "    oldest_index = age.index(oldest)\n",
    "\n",
    "    oldest_person = name[oldest_index]\n",
    "\n",
    "    print(oldest_person)"
   ]
  },
  {
   "cell_type": "code",
   "execution_count": 38,
   "metadata": {},
   "outputs": [
    {
     "name": "stdout",
     "output_type": "stream",
     "text": [
      "gajuji\n"
     ]
    }
   ],
   "source": [
    "oldes(my_dict)"
   ]
  },
  {
   "cell_type": "code",
   "execution_count": 39,
   "metadata": {},
   "outputs": [],
   "source": [
    "student = {'Bob': 10, 'Joseph': 11, 'Peter': 10, 'Isabel': 11, 'Maria': 12, 'Thomas': 10, 'Gabriel': 10, 'Anna': 9}"
   ]
  },
  {
   "cell_type": "code",
   "execution_count": 40,
   "metadata": {},
   "outputs": [],
   "source": [
    "# age updater function\n",
    "\n",
    "def updateAges(dictin,update):\n",
    "\n",
    "    for key,value in dictin.items():\n",
    "\n",
    "        dictin[key] = value + update\n",
    "\n",
    "    return dictin"
   ]
  },
  {
   "cell_type": "code",
   "execution_count": 41,
   "metadata": {},
   "outputs": [
    {
     "data": {
      "text/plain": [
       "{'Bob': 20,\n",
       " 'Joseph': 21,\n",
       " 'Peter': 20,\n",
       " 'Isabel': 21,\n",
       " 'Maria': 22,\n",
       " 'Thomas': 20,\n",
       " 'Gabriel': 20,\n",
       " 'Anna': 19}"
      ]
     },
     "execution_count": 41,
     "metadata": {},
     "output_type": "execute_result"
    }
   ],
   "source": [
    "updateAges(student,10)"
   ]
  },
  {
   "cell_type": "code",
   "execution_count": 42,
   "metadata": {},
   "outputs": [],
   "source": [
    "# student_nested dict\n",
    "\n",
    "students_dict = {'Susan': {'age': 11, 'address': 'Lisbon'}, 'Gibrael': {'age': 10, 'address': 'Sesimbra'}, 'Charles': {'age': 9, 'address': 'Sesimbra'}, 'Isabel': {'age': 11, 'address': 'Sesimbra'}, 'Peter': {'age': 10, 'address': 'Lisbon'}, 'Anna': {'age': 9, 'address': 'Lisbon'}}"
   ]
  },
  {
   "cell_type": "code",
   "execution_count": 44,
   "metadata": {},
   "outputs": [
    {
     "data": {
      "text/plain": [
       "{'Susan': {'age': 11, 'address': 'Lisbon'},\n",
       " 'Gibrael': {'age': 10, 'address': 'Sesimbra'},\n",
       " 'Charles': {'age': 9, 'address': 'Sesimbra'},\n",
       " 'Isabel': {'age': 11, 'address': 'Sesimbra'},\n",
       " 'Peter': {'age': 10, 'address': 'Lisbon'},\n",
       " 'Anna': {'age': 9, 'address': 'Lisbon'}}"
      ]
     },
     "execution_count": 44,
     "metadata": {},
     "output_type": "execute_result"
    }
   ],
   "source": [
    "students_dict"
   ]
  },
  {
   "cell_type": "code",
   "execution_count": 45,
   "metadata": {},
   "outputs": [],
   "source": [
    "def calculateAverageAge(dictin):\n",
    "\n",
    "    sum = 0\n",
    "\n",
    "    for key in dictin.keys():\n",
    "\n",
    "        age = dictin[key]['age']\n",
    "\n",
    "        sum = sum + age\n",
    "\n",
    "    avg = sum / len(dictin)\n",
    "\n",
    "    return avg"
   ]
  },
  {
   "cell_type": "code",
   "execution_count": 46,
   "metadata": {},
   "outputs": [
    {
     "data": {
      "text/plain": [
       "10.0"
      ]
     },
     "execution_count": 46,
     "metadata": {},
     "output_type": "execute_result"
    }
   ],
   "source": [
    "calculateAverageAge(nested_dict)"
   ]
  },
  {
   "cell_type": "code",
   "execution_count": 51,
   "metadata": {},
   "outputs": [],
   "source": [
    "## student finder from address\n",
    "\n",
    "def find_students(address, dictin):\n",
    "  \n",
    "    student = []\n",
    "\n",
    "    for key in dictin.keys():\n",
    "\n",
    "        if dictin[key]['address'] == address:\n",
    "\n",
    "            student.append(key)\n",
    "\n",
    "        else:\n",
    "\n",
    "            pass\n",
    "    return sorted(student)"
   ]
  },
  {
   "cell_type": "code",
   "execution_count": 52,
   "metadata": {},
   "outputs": [
    {
     "data": {
      "text/plain": [
       "['Anna', 'Peter']"
      ]
     },
     "execution_count": 52,
     "metadata": {},
     "output_type": "execute_result"
    }
   ],
   "source": [
    "find_students('Lisbon',nested_dict)"
   ]
  },
  {
   "cell_type": "markdown",
   "metadata": {},
   "source": []
  },
  {
   "cell_type": "markdown",
   "metadata": {},
   "source": [
    "#### dictionaries attributes\n",
    "\n",
    "list of useful attributes"
   ]
  },
  {
   "cell_type": "code",
   "execution_count": null,
   "metadata": {},
   "outputs": [],
   "source": []
  }
 ],
 "metadata": {
  "kernelspec": {
   "display_name": "Python 3.10.6 64-bit",
   "language": "python",
   "name": "python3"
  },
  "language_info": {
   "codemirror_mode": {
    "name": "ipython",
    "version": 3
   },
   "file_extension": ".py",
   "mimetype": "text/x-python",
   "name": "python",
   "nbconvert_exporter": "python",
   "pygments_lexer": "ipython3",
   "version": "3.10.6"
  },
  "orig_nbformat": 4,
  "vscode": {
   "interpreter": {
    "hash": "916dbcbb3f70747c44a77c7bcd40155683ae19c65e1c03b4aa3499c5328201f1"
   }
  }
 },
 "nbformat": 4,
 "nbformat_minor": 2
}
