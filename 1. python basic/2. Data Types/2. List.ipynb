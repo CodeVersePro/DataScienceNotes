{
 "cells": [
  {
   "cell_type": "markdown",
   "id": "7e9c59ac",
   "metadata": {},
   "source": [
    "### List \n",
    "\n",
    "1. how to create\n",
    "2. shorting list\n",
    "3. mutation"
   ]
  },
  {
   "cell_type": "markdown",
   "id": "480fbd26",
   "metadata": {},
   "source": [
    "#### list basic\n",
    "\n",
    "list can be initiated using \n",
    "\n",
    "1. []\n",
    "2. list()\n",
    "\n",
    "notes\n",
    "\n",
    "1. list can hold multiple data type\n",
    "2. list are mutable\n",
    "3. list are slicable and indexable"
   ]
  },
  {
   "cell_type": "code",
   "execution_count": null,
   "id": "d88ae268",
   "metadata": {},
   "outputs": [],
   "source": []
  },
  {
   "cell_type": "markdown",
   "id": "ea239582",
   "metadata": {},
   "source": [
    "#### how to create list"
   ]
  },
  {
   "cell_type": "code",
   "execution_count": 1,
   "id": "f1a21665",
   "metadata": {},
   "outputs": [],
   "source": [
    "list1 = [] #simple creation"
   ]
  },
  {
   "cell_type": "code",
   "execution_count": 2,
   "id": "dfeaf4c2",
   "metadata": {},
   "outputs": [],
   "source": [
    "list2 = list() #creating using list function"
   ]
  },
  {
   "cell_type": "code",
   "execution_count": 3,
   "id": "eee52bc3",
   "metadata": {},
   "outputs": [
    {
     "data": {
      "text/plain": [
       "list"
      ]
     },
     "execution_count": 3,
     "metadata": {},
     "output_type": "execute_result"
    }
   ],
   "source": [
    "type(list1)"
   ]
  },
  {
   "cell_type": "code",
   "execution_count": 4,
   "id": "a9e6956b",
   "metadata": {},
   "outputs": [
    {
     "data": {
      "text/plain": [
       "list"
      ]
     },
     "execution_count": 4,
     "metadata": {},
     "output_type": "execute_result"
    }
   ],
   "source": [
    "type(list2)"
   ]
  },
  {
   "cell_type": "code",
   "execution_count": null,
   "id": "befafa94",
   "metadata": {},
   "outputs": [],
   "source": []
  },
  {
   "cell_type": "markdown",
   "id": "32911428",
   "metadata": {},
   "source": [
    "#### list can hold multiple form of data"
   ]
  },
  {
   "cell_type": "code",
   "execution_count": 6,
   "id": "58a79715",
   "metadata": {},
   "outputs": [],
   "source": [
    "list1 = ['name',7600066621,8.0,8+6j]"
   ]
  },
  {
   "cell_type": "code",
   "execution_count": 7,
   "id": "8395a517",
   "metadata": {},
   "outputs": [
    {
     "name": "stdout",
     "output_type": "stream",
     "text": [
      "['name', 7600066621, 8.0, (8+6j)]\n"
     ]
    }
   ],
   "source": [
    "print(list1)"
   ]
  },
  {
   "cell_type": "code",
   "execution_count": null,
   "id": "d17f0b02",
   "metadata": {},
   "outputs": [],
   "source": []
  },
  {
   "cell_type": "markdown",
   "id": "15d9dcc0",
   "metadata": {},
   "source": [
    "#### len function to calculate size of the list"
   ]
  },
  {
   "cell_type": "code",
   "execution_count": 8,
   "id": "b6169c21",
   "metadata": {},
   "outputs": [
    {
     "data": {
      "text/plain": [
       "4"
      ]
     },
     "execution_count": 8,
     "metadata": {},
     "output_type": "execute_result"
    }
   ],
   "source": [
    "len(list1)"
   ]
  },
  {
   "cell_type": "code",
   "execution_count": null,
   "id": "25f9c505",
   "metadata": {},
   "outputs": [],
   "source": []
  },
  {
   "cell_type": "markdown",
   "id": "73ca8813",
   "metadata": {},
   "source": [
    "#### creating list using range function"
   ]
  },
  {
   "cell_type": "code",
   "execution_count": 11,
   "id": "f3769f36",
   "metadata": {},
   "outputs": [],
   "source": [
    "list2 = list(range(1,11))"
   ]
  },
  {
   "cell_type": "code",
   "execution_count": 12,
   "id": "7c69cf00",
   "metadata": {},
   "outputs": [
    {
     "data": {
      "text/plain": [
       "[1, 2, 3, 4, 5, 6, 7, 8, 9, 10]"
      ]
     },
     "execution_count": 12,
     "metadata": {},
     "output_type": "execute_result"
    }
   ],
   "source": [
    "list2"
   ]
  },
  {
   "cell_type": "code",
   "execution_count": 13,
   "id": "61cd38c4",
   "metadata": {},
   "outputs": [],
   "source": [
    "list2 = list(range(1,11,2))"
   ]
  },
  {
   "cell_type": "code",
   "execution_count": 14,
   "id": "d9ab19b5",
   "metadata": {},
   "outputs": [
    {
     "data": {
      "text/plain": [
       "[1, 3, 5, 7, 9]"
      ]
     },
     "execution_count": 14,
     "metadata": {},
     "output_type": "execute_result"
    }
   ],
   "source": [
    "list2"
   ]
  },
  {
   "cell_type": "code",
   "execution_count": 19,
   "id": "e83cef3b",
   "metadata": {},
   "outputs": [],
   "source": [
    "list2 = list(range(15,0,-1))"
   ]
  },
  {
   "cell_type": "code",
   "execution_count": 20,
   "id": "8651824c",
   "metadata": {},
   "outputs": [
    {
     "data": {
      "text/plain": [
       "[15, 14, 13, 12, 11, 10, 9, 8, 7, 6, 5, 4, 3, 2, 1]"
      ]
     },
     "execution_count": 20,
     "metadata": {},
     "output_type": "execute_result"
    }
   ],
   "source": [
    "list2"
   ]
  },
  {
   "cell_type": "code",
   "execution_count": null,
   "id": "f2c0c37f",
   "metadata": {},
   "outputs": [],
   "source": []
  },
  {
   "cell_type": "markdown",
   "id": "03c12f9b",
   "metadata": {},
   "source": [
    "### list indexing and slicing"
   ]
  },
  {
   "cell_type": "code",
   "execution_count": 21,
   "id": "96045322",
   "metadata": {},
   "outputs": [],
   "source": [
    "list3 = list(range(1,16))"
   ]
  },
  {
   "cell_type": "code",
   "execution_count": 22,
   "id": "85bd882b",
   "metadata": {},
   "outputs": [
    {
     "data": {
      "text/plain": [
       "[1, 2, 3, 4, 5, 6, 7, 8, 9, 10, 11, 12, 13, 14, 15]"
      ]
     },
     "execution_count": 22,
     "metadata": {},
     "output_type": "execute_result"
    }
   ],
   "source": [
    "list3"
   ]
  },
  {
   "cell_type": "code",
   "execution_count": 24,
   "id": "a13ee236",
   "metadata": {},
   "outputs": [
    {
     "data": {
      "text/plain": [
       "[1, 2, 3, 4, 5, 6, 7, 8, 9, 10, 11, 12, 13, 14, 15]"
      ]
     },
     "execution_count": 24,
     "metadata": {},
     "output_type": "execute_result"
    }
   ],
   "source": [
    "list3[:] #shorting whole list"
   ]
  },
  {
   "cell_type": "code",
   "execution_count": 25,
   "id": "cfaffb57",
   "metadata": {},
   "outputs": [
    {
     "data": {
      "text/plain": [
       "[2, 3, 4, 5, 6, 7, 8, 9, 10, 11]"
      ]
     },
     "execution_count": 25,
     "metadata": {},
     "output_type": "execute_result"
    }
   ],
   "source": [
    "list3[1:11] #slicing, endpoint is not included"
   ]
  },
  {
   "cell_type": "code",
   "execution_count": 27,
   "id": "cafa5e12",
   "metadata": {},
   "outputs": [
    {
     "data": {
      "text/plain": [
       "[1, 2, 3, 4, 5]"
      ]
     },
     "execution_count": 27,
     "metadata": {},
     "output_type": "execute_result"
    }
   ],
   "source": [
    "list3[:5]"
   ]
  },
  {
   "cell_type": "markdown",
   "id": "7024282f",
   "metadata": {},
   "source": [
    "#### negative indexing\n",
    "\n",
    "lis[a:b:c]\n",
    "\n",
    "a= starting point\n",
    "b = endpoint\n",
    "c = step"
   ]
  },
  {
   "cell_type": "code",
   "execution_count": 28,
   "id": "f61607fe",
   "metadata": {},
   "outputs": [
    {
     "data": {
      "text/plain": [
       "15"
      ]
     },
     "execution_count": 28,
     "metadata": {},
     "output_type": "execute_result"
    }
   ],
   "source": [
    "list3[-1]"
   ]
  },
  {
   "cell_type": "code",
   "execution_count": 29,
   "id": "00d4c17d",
   "metadata": {},
   "outputs": [
    {
     "data": {
      "text/plain": [
       "[11, 12, 13, 14]"
      ]
     },
     "execution_count": 29,
     "metadata": {},
     "output_type": "execute_result"
    }
   ],
   "source": [
    "list3[-5:-1]"
   ]
  },
  {
   "cell_type": "code",
   "execution_count": 30,
   "id": "48efded5",
   "metadata": {},
   "outputs": [
    {
     "data": {
      "text/plain": [
       "[]"
      ]
     },
     "execution_count": 30,
     "metadata": {},
     "output_type": "execute_result"
    }
   ],
   "source": [
    "list3[-1:-5]"
   ]
  },
  {
   "cell_type": "code",
   "execution_count": 31,
   "id": "70aaf8e5",
   "metadata": {},
   "outputs": [
    {
     "data": {
      "text/plain": [
       "[15, 14, 13, 12]"
      ]
     },
     "execution_count": 31,
     "metadata": {},
     "output_type": "execute_result"
    }
   ],
   "source": [
    "list3[-1:-5:-1]"
   ]
  },
  {
   "cell_type": "code",
   "execution_count": 32,
   "id": "6c9ff49f",
   "metadata": {},
   "outputs": [
    {
     "data": {
      "text/plain": [
       "[]"
      ]
     },
     "execution_count": 32,
     "metadata": {},
     "output_type": "execute_result"
    }
   ],
   "source": [
    "list3[10:5]"
   ]
  },
  {
   "cell_type": "code",
   "execution_count": 33,
   "id": "7a75ccb1",
   "metadata": {},
   "outputs": [
    {
     "data": {
      "text/plain": [
       "[11, 10, 9, 8, 7]"
      ]
     },
     "execution_count": 33,
     "metadata": {},
     "output_type": "execute_result"
    }
   ],
   "source": [
    "list3[10:5:-1]"
   ]
  },
  {
   "cell_type": "code",
   "execution_count": null,
   "id": "bade294c",
   "metadata": {},
   "outputs": [],
   "source": []
  },
  {
   "cell_type": "code",
   "execution_count": null,
   "id": "b6ea5b48",
   "metadata": {},
   "outputs": [],
   "source": []
  },
  {
   "cell_type": "markdown",
   "id": "99d222ee",
   "metadata": {},
   "source": [
    "#### Using extra methods and functions\n"
   ]
  },
  {
   "cell_type": "code",
   "execution_count": 43,
   "id": "fc70a4b1",
   "metadata": {},
   "outputs": [],
   "source": [
    "list_num = [1,2,3,4,5,6]\n",
    "list_new = []\n",
    "list_num_sorted = sorted(list_num)\n",
    "\n",
    "for num in list_num_sorted:\n",
    "    \n",
    "    num2 = 1\n",
    "    \n",
    "    while num2 <= num:\n",
    "        \n",
    "        list_new.append(num)\n",
    "        num2 += 1"
   ]
  },
  {
   "cell_type": "code",
   "execution_count": 44,
   "id": "d1113e57",
   "metadata": {},
   "outputs": [
    {
     "data": {
      "text/plain": [
       "[1, 2, 2, 3, 3, 3, 4, 4, 4, 4, 5, 5, 5, 5, 5, 6, 6, 6, 6, 6, 6]"
      ]
     },
     "execution_count": 44,
     "metadata": {},
     "output_type": "execute_result"
    }
   ],
   "source": [
    "list_new"
   ]
  },
  {
   "cell_type": "markdown",
   "id": "e5b6957d",
   "metadata": {},
   "source": []
  },
  {
   "cell_type": "markdown",
   "id": "c6bd58df",
   "metadata": {},
   "source": [
    "#### creating our own append function"
   ]
  },
  {
   "cell_type": "code",
   "execution_count": 17,
   "id": "4a08512f",
   "metadata": {},
   "outputs": [],
   "source": [
    "def append_list(list_input, list_append):\n",
    "\n",
    "    try:\n",
    "\n",
    "        if type(list_input) != list or type(list_append) != list:\n",
    "\n",
    "            raise Exception('Please enter valid list as input')\n",
    "\n",
    "    \n",
    "    except Exception as ex:\n",
    "\n",
    "        print(f'ERROR : {ex}')\n",
    "\n",
    "    else:\n",
    "\n",
    "        list_final = list_input + list_append\n",
    "\n",
    "        return list_final"
   ]
  },
  {
   "cell_type": "code",
   "execution_count": 20,
   "id": "6710b651",
   "metadata": {},
   "outputs": [
    {
     "data": {
      "text/plain": [
       "[12, 3, 4, 4, [4, 5], 5]"
      ]
     },
     "execution_count": 20,
     "metadata": {},
     "output_type": "execute_result"
    }
   ],
   "source": [
    "append_list([12,3,4],[4,[4,5],5])"
   ]
  },
  {
   "cell_type": "markdown",
   "id": "eefec82e",
   "metadata": {},
   "source": [
    "#### calculating average of the list"
   ]
  },
  {
   "cell_type": "code",
   "execution_count": 38,
   "id": "c666fabd",
   "metadata": {},
   "outputs": [],
   "source": [
    "list_ex = [1,2,3,4,5,6,7,8,9,10]"
   ]
  },
  {
   "cell_type": "code",
   "execution_count": 41,
   "id": "52914c47",
   "metadata": {},
   "outputs": [],
   "source": [
    "def list_avg(input_list):\n",
    "\n",
    "    try:\n",
    "\n",
    "        if type(input_list) != list:\n",
    "\n",
    "            raise Exception('please enter valid list as an input')\n",
    "\n",
    "    except Exception as ex:\n",
    "\n",
    "        print(ex)\n",
    "\n",
    "    else:\n",
    "\n",
    "        sum = 0\n",
    "\n",
    "        for elem in input_list:\n",
    "\n",
    "            sum += elem\n",
    "    \n",
    "        avg = sum / len(input_list)\n",
    "\n",
    "        return print(avg)"
   ]
  },
  {
   "cell_type": "code",
   "execution_count": 45,
   "id": "2272860c",
   "metadata": {},
   "outputs": [
    {
     "name": "stdout",
     "output_type": "stream",
     "text": [
      "3.5\n"
     ]
    }
   ],
   "source": [
    "list_avg([2,3,4,5,])"
   ]
  },
  {
   "cell_type": "code",
   "execution_count": 46,
   "id": "6ed9fd84",
   "metadata": {},
   "outputs": [
    {
     "data": {
      "text/plain": [
       "True"
      ]
     },
     "execution_count": 46,
     "metadata": {},
     "output_type": "execute_result"
    }
   ],
   "source": []
  },
  {
   "cell_type": "markdown",
   "id": "4b2060db",
   "metadata": {},
   "source": [
    "#### making function for removing sublist"
   ]
  },
  {
   "cell_type": "code",
   "execution_count": 53,
   "id": "e1eaa7d4",
   "metadata": {},
   "outputs": [],
   "source": [
    "def list_remover(list_input,list_remove):\n",
    "\n",
    "    starting_point = 0\n",
    "    ending_point = len(list_remove)\n",
    "    output_list = []\n",
    "    while ending_point <= len(list_input):\n",
    "\n",
    "        if list_input[starting_point:ending_point] == list_remove:\n",
    "\n",
    "            starting_point += len(list_remove)\n",
    "            ending_point += len(list_remove)\n",
    "            \n",
    "        else:\n",
    "\n",
    "            output_list.extend(list_input[starting_point:ending_point])\n",
    "            starting_point += len(list_remove)\n",
    "            ending_point += len(list_remove)\n",
    "            \n",
    "    print(output_list)"
   ]
  },
  {
   "cell_type": "code",
   "execution_count": 54,
   "id": "fa3fc085",
   "metadata": {},
   "outputs": [
    {
     "name": "stdout",
     "output_type": "stream",
     "text": [
      "[3, 4, 5, 6]\n"
     ]
    }
   ],
   "source": [
    "list_remover([1,2,3,4,5,6],[1,2])"
   ]
  }
 ],
 "metadata": {
  "kernelspec": {
   "display_name": "Python 3.10.6 64-bit",
   "language": "python",
   "name": "python3"
  },
  "language_info": {
   "codemirror_mode": {
    "name": "ipython",
    "version": 3
   },
   "file_extension": ".py",
   "mimetype": "text/x-python",
   "name": "python",
   "nbconvert_exporter": "python",
   "pygments_lexer": "ipython3",
   "version": "3.10.6"
  },
  "vscode": {
   "interpreter": {
    "hash": "916dbcbb3f70747c44a77c7bcd40155683ae19c65e1c03b4aa3499c5328201f1"
   }
  }
 },
 "nbformat": 4,
 "nbformat_minor": 5
}
