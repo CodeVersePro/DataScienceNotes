{
 "cells": [
  {
   "cell_type": "markdown",
   "metadata": {},
   "source": [
    "### classes are the functionality of opp which help us to create attributes and methods"
   ]
  },
  {
   "cell_type": "code",
   "execution_count": 1,
   "metadata": {},
   "outputs": [],
   "source": [
    "## simplest example\n",
    "\n",
    "class person:\n",
    "\n",
    "    def __init__(self,name,age):\n",
    "\n",
    "        self.name = name\n",
    "        self.age = age\n",
    "\n",
    "    def greet(self):\n",
    "\n",
    "        return f'welcome mister {self.name}'\n",
    "        \n"
   ]
  },
  {
   "cell_type": "code",
   "execution_count": 15,
   "metadata": {},
   "outputs": [],
   "source": [
    "person1 = person(name = 'hitesh', age = '20') #we have utilised our class to hold personal data"
   ]
  },
  {
   "cell_type": "code",
   "execution_count": 16,
   "metadata": {},
   "outputs": [
    {
     "name": "stdout",
     "output_type": "stream",
     "text": [
      "hitesh\n",
      "20\n"
     ]
    }
   ],
   "source": [
    "# extracting information with attributes\n",
    "\n",
    "print(person1.name)\n",
    "print(person1.age)"
   ]
  },
  {
   "cell_type": "code",
   "execution_count": 17,
   "metadata": {},
   "outputs": [
    {
     "name": "stdout",
     "output_type": "stream",
     "text": [
      "welcome mister hitesh\n"
     ]
    }
   ],
   "source": [
    "# using greet method \n",
    "\n",
    "print(person1.greet())"
   ]
  },
  {
   "cell_type": "markdown",
   "metadata": {},
   "source": [
    "#### rectangle class"
   ]
  },
  {
   "cell_type": "code",
   "execution_count": 2,
   "metadata": {},
   "outputs": [],
   "source": [
    "class Rectangle:\n",
    "  def __init__(self, x1, y1, x2, y2): # class constructor\n",
    "    if x1 < x2 and y1 > y2:\n",
    "      self.x1 = x1 # class variable\n",
    "      self.y1 = y1 # class variable\n",
    "      self.x2 = x2 # class variable\n",
    "      self.y2 = y2 # class variable\n",
    "    else:\n",
    "      print(\"Incorrect coordinates of the rectangle!\")\n",
    "\n",
    "  def __str__(self): # will return whne we will print class\n",
    "\n",
    "    return f'{self.x1},{self.y1},{self.x2},{self.y2}'\n",
    "\n",
    "  def width(self):\n",
    "    return self.x2 - self.x1\n",
    "      \n",
    "  def height(self):\n",
    "    return self.y1 - self.y2\n",
    "\n",
    "  def area(self):\n",
    "\n",
    "    return self.width() * self.height()\n",
    "\n",
    "  def perimeter(self):\n",
    "\n",
    "    return (2*self.width()) + (2*self.height())\n",
    "   \n",
    "  # write your code here"
   ]
  },
  {
   "cell_type": "code",
   "execution_count": 3,
   "metadata": {},
   "outputs": [],
   "source": [
    "rect = Rectangle(2,7,8,4)"
   ]
  },
  {
   "cell_type": "code",
   "execution_count": 4,
   "metadata": {},
   "outputs": [
    {
     "name": "stdout",
     "output_type": "stream",
     "text": [
      "2\n",
      "8\n",
      "7\n",
      "4\n"
     ]
    }
   ],
   "source": [
    "# using attributres\n",
    "\n",
    "print(rect.x1)\n",
    "print(rect.x2)\n",
    "print(rect.y1)\n",
    "print(rect.y2)"
   ]
  },
  {
   "cell_type": "code",
   "execution_count": 6,
   "metadata": {},
   "outputs": [
    {
     "name": "stdout",
     "output_type": "stream",
     "text": [
      "6\n",
      "3\n"
     ]
    }
   ],
   "source": [
    "#methos\n",
    "# \n",
    "print(rect.width())\n",
    "print(rect.height())"
   ]
  },
  {
   "cell_type": "code",
   "execution_count": 4,
   "metadata": {},
   "outputs": [
    {
     "name": "stdout",
     "output_type": "stream",
     "text": [
      "18\n",
      "18\n"
     ]
    }
   ],
   "source": [
    "# accessing area and perimeter\n",
    "\n",
    "print(rect.area())\n",
    "print(rect.perimeter())"
   ]
  },
  {
   "cell_type": "code",
   "execution_count": 4,
   "metadata": {},
   "outputs": [
    {
     "name": "stdout",
     "output_type": "stream",
     "text": [
      "2,7,8,4\n"
     ]
    }
   ],
   "source": [
    "print(rect)"
   ]
  },
  {
   "cell_type": "markdown",
   "metadata": {},
   "source": [
    "### class inheritence\n",
    "\n",
    "class.__init__(self,a,b,c)"
   ]
  },
  {
   "cell_type": "code",
   "execution_count": 14,
   "metadata": {},
   "outputs": [],
   "source": [
    "class youngperson:\n",
    "\n",
    "    def __init__(self,name):\n",
    "\n",
    "        person.__init__(self,name,10) #it will take name and age value and inherete self.name and self.age\n",
    "\n",
    "    def greet(self):\n",
    "\n",
    "        return f'{self.name}'\n",
    "\n",
    "    "
   ]
  },
  {
   "cell_type": "code",
   "execution_count": 15,
   "metadata": {},
   "outputs": [],
   "source": [
    "youngperson1 = youngperson('hit')"
   ]
  },
  {
   "cell_type": "code",
   "execution_count": 16,
   "metadata": {},
   "outputs": [
    {
     "data": {
      "text/plain": [
       "10"
      ]
     },
     "execution_count": 16,
     "metadata": {},
     "output_type": "execute_result"
    }
   ],
   "source": [
    "youngperson1.age"
   ]
  },
  {
   "cell_type": "code",
   "execution_count": 14,
   "metadata": {},
   "outputs": [],
   "source": [
    "# multiple inheritence\n",
    "\n",
    "class animal:\n",
    "\n",
    "    def __init__(self,name,food,char):\n",
    "\n",
    "        self.name = name\n",
    "        self.food = food\n",
    "        self.char = char\n",
    "\n",
    "class mamal(animal):\n",
    "\n",
    "    def __init__(self,name,food):\n",
    "\n",
    "        animal.__init__(self,name,food,'warm')\n",
    "\n",
    "class carnivore(mamal):\n",
    "\n",
    "    def __init__(self, name):\n",
    "        super().__init__(name, 'meat')\n",
    "\n",
    "    def describe(self):\n",
    "\n",
    "        return f'I eat {self.food}'"
   ]
  },
  {
   "cell_type": "code",
   "execution_count": 15,
   "metadata": {},
   "outputs": [],
   "source": [
    "## in above example we leared about multi level inheritence, now we will see multi class inheritence"
   ]
  },
  {
   "cell_type": "code",
   "execution_count": 93,
   "metadata": {},
   "outputs": [],
   "source": [
    "class person:\n",
    "\n",
    "    def __init__(self,name,age):\n",
    "\n",
    "        self.name = name\n",
    "        self.age = age\n",
    "\n",
    "    def intro(self):\n",
    "\n",
    "        return f'My name is {self.name} and my age is {self.age}'\n",
    "\n",
    "class runner:\n",
    "\n",
    "    def __init__(self,speed):\n",
    "        self.speed2 = speed\n",
    "\n",
    "    def speed2(self):\n",
    "\n",
    "        return f'My running speed is {self.speed2} km/hr'\n",
    "\n",
    "class physic:\n",
    "\n",
    "    def __init__(self,height,weight):\n",
    "\n",
    "        self.height = height\n",
    "        self.weight = weight\n",
    "\n",
    "    def strength(self):\n",
    "\n",
    "        return f'My height is {self.height} CM and my weight is {self.weight} KG'\n",
    "\n",
    "class football(person,runner,physic):\n",
    "\n",
    "    def __init__(self,name,age,speed,height,weight):\n",
    "\n",
    "        person.__init__(self,name,age)\n",
    "\n",
    "        self.name = name\n",
    "        self.age = age\n",
    "        self.speed2 = speed\n",
    "        self.height = height\n",
    "        self.weight = weight\n",
    "\n",
    "    \n",
    "\n",
    "    def check(self):\n",
    "\n",
    "        if (self.age > 18) and (self.speed2 > 10) and (self.height > 165) and (self.weight > 55):\n",
    "\n",
    "            return print(person.intro(self), runner.speed2(self),physic.strength(self), f'Hurrey i am qualified for football team',sep='\\n')\n",
    "            \n",
    "\n",
    "        else:\n",
    "\n",
    "            return f'Sorry {self.name} you are not eligiable for football team'"
   ]
  },
  {
   "cell_type": "code",
   "execution_count": 94,
   "metadata": {},
   "outputs": [
    {
     "name": "stdout",
     "output_type": "stream",
     "text": [
      "hitesh\n",
      "23\n",
      "11\n",
      "56\n",
      "172\n",
      "My name is hitesh and my age is 23\n",
      "My running speed is 11 km/hr\n",
      "My height is 172 CM and my weight is 56 KG\n",
      "Hurrey i am qualified for football team\n",
      "None\n"
     ]
    }
   ],
   "source": [
    "football1 = football('hitesh',23,11,172,56)\n",
    "\n",
    "print(football1.name, football1.age,football1.speed2, football1.weight, football1.height ,sep='\\n')\n",
    "print(football1.check())"
   ]
  },
  {
   "cell_type": "code",
   "execution_count": null,
   "metadata": {},
   "outputs": [],
   "source": []
  }
 ],
 "metadata": {
  "kernelspec": {
   "display_name": "Python 3.10.6 64-bit",
   "language": "python",
   "name": "python3"
  },
  "language_info": {
   "codemirror_mode": {
    "name": "ipython",
    "version": 3
   },
   "file_extension": ".py",
   "mimetype": "text/x-python",
   "name": "python",
   "nbconvert_exporter": "python",
   "pygments_lexer": "ipython3",
   "version": "3.10.6"
  },
  "orig_nbformat": 4,
  "vscode": {
   "interpreter": {
    "hash": "916dbcbb3f70747c44a77c7bcd40155683ae19c65e1c03b4aa3499c5328201f1"
   }
  }
 },
 "nbformat": 4,
 "nbformat_minor": 2
}
