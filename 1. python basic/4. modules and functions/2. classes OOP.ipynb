{
 "cells": [
  {
   "cell_type": "markdown",
   "metadata": {},
   "source": [
    "### classes are the functionality of opp which help us to create attributes and methods"
   ]
  },
  {
   "cell_type": "code",
   "execution_count": 1,
   "metadata": {},
   "outputs": [],
   "source": [
    "## simplest example\n",
    "\n",
    "class person:\n",
    "\n",
    "    def __init__(self,name,age):\n",
    "\n",
    "        self.name = name\n",
    "        self.age = age\n",
    "\n",
    "    def greet(self):\n",
    "\n",
    "        return f'welcome mister {self.name}'\n",
    "        \n"
   ]
  },
  {
   "cell_type": "code",
   "execution_count": 15,
   "metadata": {},
   "outputs": [],
   "source": [
    "person1 = person(name = 'hitesh', age = '20') #we have utilised our class to hold personal data"
   ]
  },
  {
   "cell_type": "code",
   "execution_count": 16,
   "metadata": {},
   "outputs": [
    {
     "name": "stdout",
     "output_type": "stream",
     "text": [
      "hitesh\n",
      "20\n"
     ]
    }
   ],
   "source": [
    "# extracting information with attributes\n",
    "\n",
    "print(person1.name)\n",
    "print(person1.age)"
   ]
  },
  {
   "cell_type": "code",
   "execution_count": 17,
   "metadata": {},
   "outputs": [
    {
     "name": "stdout",
     "output_type": "stream",
     "text": [
      "welcome mister hitesh\n"
     ]
    }
   ],
   "source": [
    "# using greet method \n",
    "\n",
    "print(person1.greet())"
   ]
  },
  {
   "cell_type": "markdown",
   "metadata": {},
   "source": [
    "#### rectangle class"
   ]
  },
  {
   "cell_type": "code",
   "execution_count": 8,
   "metadata": {},
   "outputs": [],
   "source": [
    "class Rectangle:\n",
    "  def __init__(self, x1, y1, x2, y2): # class constructor\n",
    "    if x1 < x2 and y1 > y2:\n",
    "      self.x1 = x1 # class variable\n",
    "      self.y1 = y1 # class variable\n",
    "      self.x2 = x2 # class variable\n",
    "      self.y2 = y2 # class variable\n",
    "    else:\n",
    "      print(\"Incorrect coordinates of the rectangle!\")\n",
    "\n",
    "  def width(self):\n",
    "    return self.x2 - self.x1\n",
    "      \n",
    "  def height(self):\n",
    "    return self.y1 - self.y2\n",
    "\n",
    "  def area(self):\n",
    "\n",
    "    return self.width() * self.height()\n",
    "\n",
    "  def perimeter(self):\n",
    "\n",
    "    return (2*self.width()) + (2*self.height())\n",
    "   \n",
    "  # write your code here"
   ]
  },
  {
   "cell_type": "code",
   "execution_count": 3,
   "metadata": {},
   "outputs": [],
   "source": [
    "rect = Rectangle(2,7,8,4)"
   ]
  },
  {
   "cell_type": "code",
   "execution_count": 4,
   "metadata": {},
   "outputs": [
    {
     "name": "stdout",
     "output_type": "stream",
     "text": [
      "2\n",
      "8\n",
      "7\n",
      "4\n"
     ]
    }
   ],
   "source": [
    "# using attributres\n",
    "\n",
    "print(rect.x1)\n",
    "print(rect.x2)\n",
    "print(rect.y1)\n",
    "print(rect.y2)"
   ]
  },
  {
   "cell_type": "code",
   "execution_count": 6,
   "metadata": {},
   "outputs": [
    {
     "name": "stdout",
     "output_type": "stream",
     "text": [
      "6\n",
      "3\n"
     ]
    }
   ],
   "source": [
    "#methos\n",
    "# \n",
    "print(rect.width())\n",
    "print(rect.height())"
   ]
  },
  {
   "cell_type": "code",
   "execution_count": 9,
   "metadata": {},
   "outputs": [
    {
     "ename": "AttributeError",
     "evalue": "'Rectangle' object has no attribute 'area'",
     "output_type": "error",
     "traceback": [
      "\u001b[0;31m---------------------------------------------------------------------------\u001b[0m",
      "\u001b[0;31mAttributeError\u001b[0m                            Traceback (most recent call last)",
      "Cell \u001b[0;32mIn [9], line 3\u001b[0m\n\u001b[1;32m      1\u001b[0m \u001b[39m# accessing area and perimeter\u001b[39;00m\n\u001b[0;32m----> 3\u001b[0m \u001b[39mprint\u001b[39m(rect\u001b[39m.\u001b[39;49marea())\n",
      "\u001b[0;31mAttributeError\u001b[0m: 'Rectangle' object has no attribute 'area'"
     ]
    }
   ],
   "source": [
    "# accessing area and perimeter\n",
    "\n",
    "print(rect.area())"
   ]
  }
 ],
 "metadata": {
  "kernelspec": {
   "display_name": "Python 3.10.6 64-bit",
   "language": "python",
   "name": "python3"
  },
  "language_info": {
   "codemirror_mode": {
    "name": "ipython",
    "version": 3
   },
   "file_extension": ".py",
   "mimetype": "text/x-python",
   "name": "python",
   "nbconvert_exporter": "python",
   "pygments_lexer": "ipython3",
   "version": "3.10.6"
  },
  "orig_nbformat": 4,
  "vscode": {
   "interpreter": {
    "hash": "916dbcbb3f70747c44a77c7bcd40155683ae19c65e1c03b4aa3499c5328201f1"
   }
  }
 },
 "nbformat": 4,
 "nbformat_minor": 2
}
