{
 "cells": [
  {
   "cell_type": "markdown",
   "metadata": {},
   "source": [
    "#### iteration\n",
    "\n",
    "python provide for loop and while loop for itrating over iterable objects\n",
    "\n",
    "but we can use iter and next to make iterabel object"
   ]
  },
  {
   "cell_type": "code",
   "execution_count": 8,
   "metadata": {},
   "outputs": [
    {
     "name": "stdout",
     "output_type": "stream",
     "text": [
      "1\n",
      "2\n",
      "3\n",
      "4\n",
      "5\n"
     ]
    },
    {
     "ename": "StopIteration",
     "evalue": "",
     "output_type": "error",
     "traceback": [
      "\u001b[0;31m---------------------------------------------------------------------------\u001b[0m",
      "\u001b[0;31mStopIteration\u001b[0m                             Traceback (most recent call last)",
      "Cell \u001b[0;32mIn [8], line 16\u001b[0m\n\u001b[1;32m     12\u001b[0m \u001b[39mprint\u001b[39m(\u001b[39mnext\u001b[39m(list_1))\n\u001b[1;32m     14\u001b[0m \u001b[39mprint\u001b[39m(\u001b[39mnext\u001b[39m(list_1))\n\u001b[0;32m---> 16\u001b[0m \u001b[39mprint\u001b[39m(\u001b[39mnext\u001b[39;49m(list_1)) \u001b[39m#it will throw StopIteration error\u001b[39;00m\n",
      "\u001b[0;31mStopIteration\u001b[0m: "
     ]
    }
   ],
   "source": [
    "# iterationg over list without for and while loop\n",
    "\n",
    "\n",
    "list_1 = iter([1,2,3,4,5])\n",
    "\n",
    "print(next(list_1))\n",
    "\n",
    "print(next(list_1))\n",
    "\n",
    "print(next(list_1))\n",
    "\n",
    "print(next(list_1))\n",
    "\n",
    "print(next(list_1))\n",
    "\n",
    "print(next(list_1)) #it will throw StopIteration error"
   ]
  },
  {
   "cell_type": "markdown",
   "metadata": {},
   "source": [
    "#### making iterable class object \n",
    "\n",
    "__iter__\n",
    "__next__"
   ]
  },
  {
   "cell_type": "code",
   "execution_count": 38,
   "metadata": {},
   "outputs": [],
   "source": [
    "class myrange:\n",
    "\n",
    "    def __init__(self, a, b):\n",
    "        self.a = a\n",
    "        self.b = b\n",
    "\n",
    "    def __iter__(self):\n",
    "\n",
    "        return self\n",
    "\n",
    "    def __next__(self):\n",
    "\n",
    "        if self.a < self.b:\n",
    "\n",
    "            value = self.a\n",
    "            self.a = self.a + 1\n",
    "\n",
    "            return value\n",
    "\n",
    "        else:\n",
    "\n",
    "            raise StopIteration"
   ]
  },
  {
   "cell_type": "code",
   "execution_count": 55,
   "metadata": {},
   "outputs": [],
   "source": [
    "myrange1 = myrange(1,10)"
   ]
  },
  {
   "cell_type": "code",
   "execution_count": 54,
   "metadata": {},
   "outputs": [
    {
     "ename": "StopIteration",
     "evalue": "",
     "output_type": "error",
     "traceback": [
      "\u001b[0;31m---------------------------------------------------------------------------\u001b[0m",
      "\u001b[0;31mStopIteration\u001b[0m                             Traceback (most recent call last)",
      "Cell \u001b[0;32mIn [54], line 1\u001b[0m\n\u001b[0;32m----> 1\u001b[0m myrange1\u001b[39m.\u001b[39;49m\u001b[39m__next__\u001b[39;49m()\n",
      "Cell \u001b[0;32mIn [38], line 22\u001b[0m, in \u001b[0;36mmyrange.__next__\u001b[0;34m(self)\u001b[0m\n\u001b[1;32m     18\u001b[0m     \u001b[39mreturn\u001b[39;00m value\n\u001b[1;32m     20\u001b[0m \u001b[39melse\u001b[39;00m:\n\u001b[0;32m---> 22\u001b[0m     \u001b[39mraise\u001b[39;00m \u001b[39mStopIteration\u001b[39;00m\n",
      "\u001b[0;31mStopIteration\u001b[0m: "
     ]
    }
   ],
   "source": [
    "myrange1.__next__()"
   ]
  },
  {
   "cell_type": "code",
   "execution_count": 56,
   "metadata": {},
   "outputs": [
    {
     "name": "stdout",
     "output_type": "stream",
     "text": [
      "1\n",
      "2\n",
      "3\n",
      "4\n",
      "5\n",
      "6\n",
      "7\n",
      "8\n",
      "9\n"
     ]
    }
   ],
   "source": [
    "# we can iterate over our custime object using for loop\n",
    "\n",
    "for elem in myrange1:\n",
    "\n",
    "    print(elem)"
   ]
  },
  {
   "cell_type": "markdown",
   "metadata": {},
   "source": [
    "##### positive even number finder"
   ]
  },
  {
   "cell_type": "code",
   "execution_count": 160,
   "metadata": {},
   "outputs": [],
   "source": [
    "class postive_even:\n",
    "\n",
    "    def __init__(self,b,a =1):\n",
    "\n",
    "        self.a = a\n",
    "        self.b = b\n",
    "\n",
    "    def __iter__(self):\n",
    "\n",
    "        return self \n",
    "\n",
    "    def __next__(self):\n",
    "\n",
    "        even_list = []\n",
    "        \n",
    "        if self.a <= self.b:\n",
    "\n",
    "            if self.a % 2 == 0:\n",
    "\n",
    "                valueo = self.a\n",
    "                self.a += 1\n",
    "\n",
    "                return valueo\n",
    "\n",
    "            else:\n",
    "                \n",
    "                self.a += 1\n",
    "                \n",
    "\n",
    "        else:\n",
    "\n",
    "            raise StopIteration"
   ]
  },
  {
   "cell_type": "code",
   "execution_count": 161,
   "metadata": {},
   "outputs": [],
   "source": [
    "p1 = postive_even(8)"
   ]
  },
  {
   "cell_type": "code",
   "execution_count": 162,
   "metadata": {},
   "outputs": [
    {
     "name": "stdout",
     "output_type": "stream",
     "text": [
      "None\n",
      "2\n",
      "None\n",
      "4\n",
      "None\n",
      "6\n",
      "None\n",
      "8\n"
     ]
    }
   ],
   "source": [
    "for elem in p1:\n",
    "\n",
    "    print(elem)"
   ]
  },
  {
   "cell_type": "code",
   "execution_count": 163,
   "metadata": {},
   "outputs": [],
   "source": [
    "class even_cal:\n",
    "\n",
    "    def __init__(self,number):\n",
    "        \n",
    "        self.number = number\n",
    "\n",
    "    def __iter__(self):\n",
    "\n",
    "        return self\n",
    "\n",
    "    def __next__(self):\n",
    "\n",
    "        even_list = []\n",
    "\n",
    "        for elem in range(1,self.number+1):\n",
    "\n",
    "            if elem%2 == 0:\n",
    "\n",
    "                even_list.append(elem)\n",
    "\n",
    "        return even_list"
   ]
  },
  {
   "cell_type": "code",
   "execution_count": 164,
   "metadata": {},
   "outputs": [],
   "source": [
    "even_cal1 = even_cal(10)"
   ]
  },
  {
   "cell_type": "code",
   "execution_count": 168,
   "metadata": {},
   "outputs": [
    {
     "name": "stdout",
     "output_type": "stream",
     "text": [
      "[2, 4, 6, 8, 10]\n"
     ]
    }
   ],
   "source": [
    "print(next(even_cal1))"
   ]
  },
  {
   "cell_type": "markdown",
   "metadata": {},
   "source": [
    "#### returning number form n to 0"
   ]
  },
  {
   "cell_type": "code",
   "execution_count": 169,
   "metadata": {},
   "outputs": [],
   "source": [
    "class numreturn:\n",
    "\n",
    "    def __init__(self,number):\n",
    "\n",
    "        self.number = number\n",
    "\n",
    "    def check(self):\n",
    "\n",
    "        rev_list = []\n",
    "\n",
    "        for elem in range(self.number,-1,-1):\n",
    "\n",
    "            rev_list.append(elem)\n",
    "\n",
    "        return rev_list\n",
    "\n"
   ]
  },
  {
   "cell_type": "code",
   "execution_count": 174,
   "metadata": {},
   "outputs": [],
   "source": [
    "numreturn1 = numreturn(20)"
   ]
  },
  {
   "cell_type": "code",
   "execution_count": 175,
   "metadata": {},
   "outputs": [
    {
     "data": {
      "text/plain": [
       "[20, 19, 18, 17, 16, 15, 14, 13, 12, 11, 10, 9, 8, 7, 6, 5, 4, 3, 2, 1, 0]"
      ]
     },
     "execution_count": 175,
     "metadata": {},
     "output_type": "execute_result"
    }
   ],
   "source": [
    "numreturn1.check()"
   ]
  },
  {
   "cell_type": "markdown",
   "metadata": {},
   "source": [
    "#### fibonachi iterable class"
   ]
  },
  {
   "cell_type": "code",
   "execution_count": 176,
   "metadata": {},
   "outputs": [],
   "source": [
    "class fibo:\n",
    "\n",
    "    def __init__(self,number):\n",
    "\n",
    "        self.number = number\n",
    "\n",
    "    def __iter__(self):\n",
    "\n",
    "        return self\n",
    "\n",
    "    def __next__(self):\n",
    "\n",
    "        fibo_list = [0,1]\n",
    "\n",
    "        while len(fibo_list) <= self.number:\n",
    "\n",
    "            valueo = fibo_list[-1] + fibo_list[-2]\n",
    "\n",
    "            fibo_list.append(valueo)\n",
    "\n",
    "        return fibo_list"
   ]
  },
  {
   "cell_type": "code",
   "execution_count": 203,
   "metadata": {},
   "outputs": [
    {
     "data": {
      "text/plain": [
       "[0, 1, 1, 2, 3, 5, 8, 13, 21, 34, 55]"
      ]
     },
     "execution_count": 203,
     "metadata": {},
     "output_type": "execute_result"
    }
   ],
   "source": [
    "fibo1 = fibo(10)\n",
    "\n",
    "next(fibo1)"
   ]
  }
 ],
 "metadata": {
  "kernelspec": {
   "display_name": "Python 3.10.6 64-bit",
   "language": "python",
   "name": "python3"
  },
  "language_info": {
   "codemirror_mode": {
    "name": "ipython",
    "version": 3
   },
   "file_extension": ".py",
   "mimetype": "text/x-python",
   "name": "python",
   "nbconvert_exporter": "python",
   "pygments_lexer": "ipython3",
   "version": "3.10.6"
  },
  "orig_nbformat": 4,
  "vscode": {
   "interpreter": {
    "hash": "916dbcbb3f70747c44a77c7bcd40155683ae19c65e1c03b4aa3499c5328201f1"
   }
  }
 },
 "nbformat": 4,
 "nbformat_minor": 2
}
